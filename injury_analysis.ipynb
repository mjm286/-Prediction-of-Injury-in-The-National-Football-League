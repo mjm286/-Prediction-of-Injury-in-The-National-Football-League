{
 "cells": [
  {
   "cell_type": "markdown",
   "metadata": {
    "ExecuteTime": {
     "end_time": "2020-01-09T14:20:13.465274Z",
     "start_time": "2020-01-09T14:19:54.719780Z"
    }
   },
   "source": [
    "# Prediction of Injury in the National Football League"
   ]
  },
  {
   "cell_type": "markdown",
   "metadata": {
    "ExecuteTime": {
     "end_time": "2020-01-09T14:20:13.465274Z",
     "start_time": "2020-01-09T14:19:54.719780Z"
    }
   },
   "source": [
    "This notebook focuses on predicting injury in the National Football League.  The data used comes from a competion hosted by Kaggle (https://www.kaggle.com/c/nfl-playing-surface-analytics/overview).  The competition asked to investigate the relationship between the playing surface and the injury and performance of NFL athletes.  Instead, I wanted to investigate if there is a difference between a play where a player is injured as opposed to a play where a player is not, and if there is can we predict if a player will be injured.  The datasets located and are described at the following link https://www.kaggle.com/c/nfl-playing-surface-analytics/data.  First, I cleaned and visualzed the data. Next, I performed feature selection and extraction.  Third, I looked at relationships between the features and finally used those features in training a model to predict injury. "
   ]
  },
  {
   "cell_type": "code",
   "execution_count": 1,
   "metadata": {
    "ExecuteTime": {
     "end_time": "2020-01-18T16:19:33.662190Z",
     "start_time": "2020-01-18T16:19:07.699373Z"
    }
   },
   "outputs": [
    {
     "data": {
      "text/html": [
       "<style>.container { width:100% !important; }</style>"
      ],
      "text/plain": [
       "<IPython.core.display.HTML object>"
      ]
     },
     "metadata": {},
     "output_type": "display_data"
    }
   ],
   "source": [
    "# import packages\n",
    "import numpy as np\n",
    "import pandas as pd\n",
    "import matplotlib.pyplot as plt\n",
    "%matplotlib inline\n",
    "import seaborn as sns\n",
    "\n",
    "# see more columns and rows\n",
    "pd.set_option('display.max_columns', 500)\n",
    "pd.set_option('display.max_rows', 500)\n",
    "pd.set_option('display.width', 1000)\n",
    "\n",
    "from IPython.core.display import display, HTML\n",
    "display(HTML(\"<style>.container { width:100% !important; }</style>\"))"
   ]
  },
  {
   "cell_type": "markdown",
   "metadata": {
    "ExecuteTime": {
     "end_time": "2020-01-14T18:21:11.583708Z",
     "start_time": "2020-01-14T18:21:10.906116Z"
    }
   },
   "source": [
    "Read in the data"
   ]
  },
  {
   "cell_type": "code",
   "execution_count": 2,
   "metadata": {
    "ExecuteTime": {
     "end_time": "2020-01-18T16:30:36.921072Z",
     "start_time": "2020-01-18T16:30:35.999145Z"
    }
   },
   "outputs": [],
   "source": [
    "InjuryRecord = pd.read_csv('InjuryRecord.csv')\n",
    "PlayList = pd.read_csv('PlayList.csv')"
   ]
  },
  {
   "cell_type": "markdown",
   "metadata": {},
   "source": [
    "Explore the Playlist dataset"
   ]
  },
  {
   "cell_type": "code",
   "execution_count": 3,
   "metadata": {
    "ExecuteTime": {
     "end_time": "2020-01-18T16:30:43.787334Z",
     "start_time": "2020-01-18T16:30:43.674227Z"
    }
   },
   "outputs": [
    {
     "data": {
      "text/html": [
       "<div>\n",
       "<style scoped>\n",
       "    .dataframe tbody tr th:only-of-type {\n",
       "        vertical-align: middle;\n",
       "    }\n",
       "\n",
       "    .dataframe tbody tr th {\n",
       "        vertical-align: top;\n",
       "    }\n",
       "\n",
       "    .dataframe thead th {\n",
       "        text-align: right;\n",
       "    }\n",
       "</style>\n",
       "<table border=\"1\" class=\"dataframe\">\n",
       "  <thead>\n",
       "    <tr style=\"text-align: right;\">\n",
       "      <th></th>\n",
       "      <th>PlayerKey</th>\n",
       "      <th>GameID</th>\n",
       "      <th>PlayKey</th>\n",
       "      <th>RosterPosition</th>\n",
       "      <th>PlayerDay</th>\n",
       "      <th>PlayerGame</th>\n",
       "      <th>StadiumType</th>\n",
       "      <th>FieldType</th>\n",
       "      <th>Temperature</th>\n",
       "      <th>Weather</th>\n",
       "      <th>PlayType</th>\n",
       "      <th>PlayerGamePlay</th>\n",
       "      <th>Position</th>\n",
       "      <th>PositionGroup</th>\n",
       "    </tr>\n",
       "  </thead>\n",
       "  <tbody>\n",
       "    <tr>\n",
       "      <th>0</th>\n",
       "      <td>26624</td>\n",
       "      <td>26624-1</td>\n",
       "      <td>26624-1-1</td>\n",
       "      <td>Quarterback</td>\n",
       "      <td>1</td>\n",
       "      <td>1</td>\n",
       "      <td>Outdoor</td>\n",
       "      <td>Synthetic</td>\n",
       "      <td>63</td>\n",
       "      <td>Clear and warm</td>\n",
       "      <td>Pass</td>\n",
       "      <td>1</td>\n",
       "      <td>QB</td>\n",
       "      <td>QB</td>\n",
       "    </tr>\n",
       "    <tr>\n",
       "      <th>1</th>\n",
       "      <td>26624</td>\n",
       "      <td>26624-1</td>\n",
       "      <td>26624-1-2</td>\n",
       "      <td>Quarterback</td>\n",
       "      <td>1</td>\n",
       "      <td>1</td>\n",
       "      <td>Outdoor</td>\n",
       "      <td>Synthetic</td>\n",
       "      <td>63</td>\n",
       "      <td>Clear and warm</td>\n",
       "      <td>Pass</td>\n",
       "      <td>2</td>\n",
       "      <td>QB</td>\n",
       "      <td>QB</td>\n",
       "    </tr>\n",
       "    <tr>\n",
       "      <th>2</th>\n",
       "      <td>26624</td>\n",
       "      <td>26624-1</td>\n",
       "      <td>26624-1-3</td>\n",
       "      <td>Quarterback</td>\n",
       "      <td>1</td>\n",
       "      <td>1</td>\n",
       "      <td>Outdoor</td>\n",
       "      <td>Synthetic</td>\n",
       "      <td>63</td>\n",
       "      <td>Clear and warm</td>\n",
       "      <td>Rush</td>\n",
       "      <td>3</td>\n",
       "      <td>QB</td>\n",
       "      <td>QB</td>\n",
       "    </tr>\n",
       "    <tr>\n",
       "      <th>3</th>\n",
       "      <td>26624</td>\n",
       "      <td>26624-1</td>\n",
       "      <td>26624-1-4</td>\n",
       "      <td>Quarterback</td>\n",
       "      <td>1</td>\n",
       "      <td>1</td>\n",
       "      <td>Outdoor</td>\n",
       "      <td>Synthetic</td>\n",
       "      <td>63</td>\n",
       "      <td>Clear and warm</td>\n",
       "      <td>Rush</td>\n",
       "      <td>4</td>\n",
       "      <td>QB</td>\n",
       "      <td>QB</td>\n",
       "    </tr>\n",
       "    <tr>\n",
       "      <th>4</th>\n",
       "      <td>26624</td>\n",
       "      <td>26624-1</td>\n",
       "      <td>26624-1-5</td>\n",
       "      <td>Quarterback</td>\n",
       "      <td>1</td>\n",
       "      <td>1</td>\n",
       "      <td>Outdoor</td>\n",
       "      <td>Synthetic</td>\n",
       "      <td>63</td>\n",
       "      <td>Clear and warm</td>\n",
       "      <td>Pass</td>\n",
       "      <td>5</td>\n",
       "      <td>QB</td>\n",
       "      <td>QB</td>\n",
       "    </tr>\n",
       "  </tbody>\n",
       "</table>\n",
       "</div>"
      ],
      "text/plain": [
       "   PlayerKey   GameID    PlayKey RosterPosition  PlayerDay  PlayerGame StadiumType  FieldType  Temperature         Weather PlayType  PlayerGamePlay Position PositionGroup\n",
       "0      26624  26624-1  26624-1-1    Quarterback          1           1     Outdoor  Synthetic           63  Clear and warm     Pass               1       QB            QB\n",
       "1      26624  26624-1  26624-1-2    Quarterback          1           1     Outdoor  Synthetic           63  Clear and warm     Pass               2       QB            QB\n",
       "2      26624  26624-1  26624-1-3    Quarterback          1           1     Outdoor  Synthetic           63  Clear and warm     Rush               3       QB            QB\n",
       "3      26624  26624-1  26624-1-4    Quarterback          1           1     Outdoor  Synthetic           63  Clear and warm     Rush               4       QB            QB\n",
       "4      26624  26624-1  26624-1-5    Quarterback          1           1     Outdoor  Synthetic           63  Clear and warm     Pass               5       QB            QB"
      ]
     },
     "execution_count": 3,
     "metadata": {},
     "output_type": "execute_result"
    }
   ],
   "source": [
    "PlayList.head()"
   ]
  },
  {
   "cell_type": "code",
   "execution_count": 4,
   "metadata": {
    "ExecuteTime": {
     "end_time": "2020-01-18T16:30:44.918050Z",
     "start_time": "2020-01-18T16:30:44.882114Z"
    }
   },
   "outputs": [
    {
     "name": "stdout",
     "output_type": "stream",
     "text": [
      "['Clear and warm' 'Mostly Cloudy' 'Sunny' 'Clear' 'Cloudy'\n",
      " 'Cloudy, fog started developing in 2nd quarter' 'Rain' 'Partly Cloudy'\n",
      " 'Mostly cloudy' 'Cloudy and cold' 'Cloudy and Cool' 'Rain Chance 40%'\n",
      " 'Controlled Climate' 'Sunny and warm' 'Partly cloudy' 'Clear and Cool'\n",
      " 'Clear and cold' 'Sunny and cold' 'Indoor' nan 'Partly Sunny'\n",
      " 'N/A (Indoors)' 'Mostly Sunny' 'Indoors' 'Clear Skies' 'Partly sunny'\n",
      " 'Showers' 'N/A Indoor' 'Sunny and clear' 'Snow' 'Scattered Showers'\n",
      " 'Party Cloudy' 'Clear skies' 'Rain likely, temps in low 40s.' 'Hazy'\n",
      " 'Partly Clouidy' 'Sunny Skies' 'Overcast' 'Cloudy, 50% change of rain'\n",
      " 'Fair' 'Light Rain' 'Partly clear' 'Mostly Coudy' '10% Chance of Rain'\n",
      " 'Cloudy, chance of rain' 'Heat Index 95' 'Sunny, highs to upper 80s'\n",
      " 'Sun & clouds' 'Heavy lake effect snow' 'Mostly sunny' 'Cloudy, Rain'\n",
      " 'Sunny, Windy' 'Mostly Sunny Skies' 'Rainy' '30% Chance of Rain'\n",
      " 'Cloudy, light snow accumulating 1-3\"' 'cloudy' 'Clear and Sunny' 'Coudy'\n",
      " 'Clear and sunny' 'Clear to Partly Cloudy'\n",
      " 'Cloudy with periods of rain, thunder possible. Winds shifting to WNW, 10-20 mph.'\n",
      " 'Rain shower' 'Cold']\n"
     ]
    }
   ],
   "source": [
    "print(PlayList['Weather'].unique())"
   ]
  },
  {
   "cell_type": "code",
   "execution_count": 5,
   "metadata": {
    "ExecuteTime": {
     "end_time": "2020-01-18T16:30:45.775360Z",
     "start_time": "2020-01-18T16:30:45.747464Z"
    }
   },
   "outputs": [
    {
     "name": "stdout",
     "output_type": "stream",
     "text": [
      "['Outdoor' 'Indoors' 'Oudoor' 'Outdoors' 'Open' 'Closed Dome'\n",
      " 'Domed, closed' nan 'Dome' 'Indoor' 'Domed' 'Retr. Roof-Closed'\n",
      " 'Outdoor Retr Roof-Open' 'Retractable Roof' 'Ourdoor'\n",
      " 'Indoor, Roof Closed' 'Retr. Roof - Closed' 'Bowl' 'Outddors'\n",
      " 'Retr. Roof-Open' 'Dome, closed' 'Indoor, Open Roof' 'Domed, Open'\n",
      " 'Domed, open' 'Heinz Field' 'Cloudy' 'Retr. Roof - Open'\n",
      " 'Retr. Roof Closed' 'Outdor' 'Outside']\n"
     ]
    }
   ],
   "source": [
    "print(PlayList['StadiumType'].unique())"
   ]
  },
  {
   "cell_type": "markdown",
   "metadata": {},
   "source": [
    "There are many different values associated with weather and stadium type.  To make these columns more readable, a mapping will be applied to both.  There will be five categories for weather: Clear, Cloudy, Rain, and Snow, and two categories for StadiumType: Indoors and Outdoors."
   ]
  },
  {
   "cell_type": "code",
   "execution_count": 6,
   "metadata": {
    "ExecuteTime": {
     "end_time": "2020-01-18T16:30:47.993674Z",
     "start_time": "2020-01-18T16:30:47.936823Z"
    }
   },
   "outputs": [],
   "source": [
    "weather_info={'Clear and warm':'Clear',\n",
    "         'Mostly Cloudy':'Cloudy',\n",
    "         'Sunny':'Clear',\n",
    "         'Clear':'Clear',\n",
    "         'Cloudy':'Cloudy',\n",
    "         'Cloudy, fog started developing in 2nd quarter':'Cloudy',\n",
    "         'Rain':'Rain',\n",
    "         'Partly Cloudy':'Cloudy',\n",
    "         'Mostly cloudy':'Cloudy',\n",
    "         'Cloudy and cold':'Cloudy',\n",
    "         'Cloudy and Cool':'Cloudy',\n",
    "         'Rain Chance 40%':'Rain',\n",
    "         'Controlled Climate':'Clear',\n",
    "         'Sunny and warm':'Clear',\n",
    "         'Partly cloudy':'Cloudy', \n",
    "         'Clear and Cool':'Clear',\n",
    "         'Clear and cold':'Clear',\n",
    "         'Sunny and cold':'Clear',\n",
    "         'Indoor':'Clear',\n",
    "         'Partly Sunny':'Clear',\n",
    "         'N/A (Indoors)':'Clear',\n",
    "         'Mostly Sunny':'Clear',\n",
    "         'Indoors':'Clear',\n",
    "         'Clear Skies':'Clear',\n",
    "         'Partly sunny':'Clear',\n",
    "         'Showers':'Rain', \n",
    "         'N/A Indoor':'Clear',\n",
    "         'Sunny and clear':'Clear',\n",
    "         'Snow':'Snow',\n",
    "         'Scattered Showers':'Rain',\n",
    "         'Party Cloudy':'Cloudy',\n",
    "         'Clear skies':'Clear',\n",
    "         'Rain likely, temps in low 40s.':'Rain',\n",
    "         'Hazy':'Cloudy', \n",
    "         'Partly Clouidy':'Cloudy',\n",
    "         'Sunny Skies':'Clear',\n",
    "         'Overcast':'Cloudy',\n",
    "         'Cloudy, 50% change of rain':'Rain',\n",
    "         'Fair':'Clear',\n",
    "         'Light Rain':'Rain',\n",
    "         'Partly clear':'Clear',\n",
    "         'Mostly Coudy':'Cloudy',\n",
    "         '10% Chance of Rain':'Rain',\n",
    "         'Cloudy, chance of rain':'Cloudy',\n",
    "         'Heat Index 95':'Clear',\n",
    "         'Sunny, highs to upper 80s':'Clear',\n",
    "         'Sun & clouds':'Cloudy',\n",
    "         'Heavy lake effect snow':'Snow',\n",
    "         'Mostly sunny':'Clear',\n",
    "         'Cloudy, Rain':'Rain',\n",
    "         'Sunny, Windy':'Clear',\n",
    "         'Mostly Sunny Skies':'Clear',\n",
    "         'Rainy':'Rain',\n",
    "         '30% Chance of Rain':'Rain',\n",
    "         'Cloudy, light snow accumulating 1-3\"':'Snow',\n",
    "         'cloudy':'Cloudy',\n",
    "         'Clear and Sunny':'Clear',\n",
    "         'Coudy':'Cloudy', \n",
    "         'Clear and sunny':'Clear',\n",
    "         'Clear to Partly Cloudy':'Cloudy',\n",
    "         'Cloudy with periods of rain, thunder possible. Winds shifting to WNW, 10-20 mph.':'Rain',\n",
    "         'Rain shower':'Rain',\n",
    "         'Cold':'Clear'}\n",
    "# map function\n",
    "PlayList['Weather_category']=PlayList['Weather'].map(weather_info)"
   ]
  },
  {
   "cell_type": "code",
   "execution_count": 7,
   "metadata": {
    "ExecuteTime": {
     "end_time": "2020-01-18T16:30:49.047557Z",
     "start_time": "2020-01-18T16:30:48.987697Z"
    }
   },
   "outputs": [],
   "source": [
    "Stadium_info={'Outdoor':'Outdoors',\n",
    "              'Indoors':'Indoors',\n",
    "              'Oudoor':'Outdoors',\n",
    "              'Outdoors':'Outdoors',\n",
    "              'Open':'Outdoors',\n",
    "              'Closed Dome':'Indoors',\n",
    "              'Domed, closed':'Indoors',\n",
    "              'Dome':'Indoors',\n",
    "              'Indoor':'Indoors',\n",
    "              'Domed':'Indoors',\n",
    "              'Retr. Roof-Closed':'Indoors',\n",
    "              'Outdoor Retr Roof-Open':'Indoors',\n",
    "              'Retractable Roof':'Indoors',\n",
    "              'Ourdoor':'Outdoors',\n",
    "              'Roof Closed':'Indoors',\n",
    "              'Retr. Roof - Closed':'Indoors',\n",
    "              'Bowl':'Outdoors',\n",
    "              'Outddors':'Outdoors',\n",
    "              'Retr. Roof-Open':'Indoors',\n",
    "              'Dome, closed':'Indoors',\n",
    "              'Indoor, Open Roof':'Indoors',\n",
    "              'Domed, Open':'Indoors',\n",
    "              'Domed, open':'Indoors',\n",
    "              'Heinz Field':'Outdoors',\n",
    "              'Cloudy':'Outdoors',\n",
    "              'Retr. Roof - Open':'Indoors',\n",
    "              'Retr. Roof Closed':'Indoors',\n",
    "              'Outdor':'Outdoors',\n",
    "              'Outside':'Outdoors'}\n",
    "# map function\n",
    "PlayList['Stadium']=PlayList['StadiumType'].map(Stadium_info)"
   ]
  },
  {
   "cell_type": "markdown",
   "metadata": {},
   "source": [
    "Certain assumptions are made to fill te remaining missings  stadium and weather values.  If weather is NaN and the stadium is Indoors, then weather category will be clear.  If Stadium is NaN and the weather is ,bad (rain or snow), then Stadium category will be Outdoors.  It is a coin flip in this assumption really. Observation shows that some temperatre values are -999. The assumption made is if temperature is <0, the stadium is indoors and the temperature is  set to 68 degrees."
   ]
  },
  {
   "cell_type": "code",
   "execution_count": 8,
   "metadata": {
    "ExecuteTime": {
     "end_time": "2020-01-18T16:31:02.788844Z",
     "start_time": "2020-01-18T16:31:02.468932Z"
    }
   },
   "outputs": [],
   "source": [
    "mask = (PlayList['Stadium'] == 'Indoors') & (PlayList['Weather'].isna())\n",
    "PlayList.loc[mask,'Weather_category']='Clear'\n",
    "\n",
    "mask = (PlayList['Weather_category']=='Rain') & (PlayList['Stadium'].isna())\n",
    "PlayList.loc[mask,'Stadium']='Outdoors'\n",
    "\n",
    "mask = (PlayList['Weather_category']=='Snow') & (PlayList['Stadium'].isna())\n",
    "PlayList.loc[mask,'Stadium']='Outdoors'\n",
    "\n",
    "mask = (PlayList['Temperature']<0)\n",
    "PlayList.loc[mask,'Temperature']=68\n",
    "PlayList.loc[mask,'Stadium']='Indoors'\n",
    "\n",
    "PlayList = PlayList.drop(['Weather','StadiumType'], axis=1)\n",
    "# PlayList.to_csv('PlayList_mod.csv', index=False)"
   ]
  },
  {
   "cell_type": "code",
   "execution_count": 9,
   "metadata": {
    "ExecuteTime": {
     "end_time": "2020-01-18T16:31:04.122357Z",
     "start_time": "2020-01-18T16:31:03.986069Z"
    }
   },
   "outputs": [
    {
     "data": {
      "text/plain": [
       "(19184, 14)"
      ]
     },
     "execution_count": 9,
     "metadata": {},
     "output_type": "execute_result"
    }
   ],
   "source": [
    "PlayList.loc[PlayList.isna().any(axis=1)].shape"
   ]
  },
  {
   "cell_type": "markdown",
   "metadata": {},
   "source": [
    "After cleaning there are still ~20000 missing values.  These will be evalulated later."
   ]
  },
  {
   "cell_type": "markdown",
   "metadata": {},
   "source": [
    "Now I explore InjuryRecord dataset.  By looking for missing values, we see that the PlayKey information is mssing for many entries"
   ]
  },
  {
   "cell_type": "code",
   "execution_count": 11,
   "metadata": {
    "ExecuteTime": {
     "end_time": "2020-01-18T16:32:16.004419Z",
     "start_time": "2020-01-18T16:32:15.981482Z"
    }
   },
   "outputs": [
    {
     "name": "stdout",
     "output_type": "stream",
     "text": [
      "(28, 9)\n"
     ]
    },
    {
     "data": {
      "text/html": [
       "<div>\n",
       "<style scoped>\n",
       "    .dataframe tbody tr th:only-of-type {\n",
       "        vertical-align: middle;\n",
       "    }\n",
       "\n",
       "    .dataframe tbody tr th {\n",
       "        vertical-align: top;\n",
       "    }\n",
       "\n",
       "    .dataframe thead th {\n",
       "        text-align: right;\n",
       "    }\n",
       "</style>\n",
       "<table border=\"1\" class=\"dataframe\">\n",
       "  <thead>\n",
       "    <tr style=\"text-align: right;\">\n",
       "      <th></th>\n",
       "      <th>PlayerKey</th>\n",
       "      <th>GameID</th>\n",
       "      <th>PlayKey</th>\n",
       "      <th>BodyPart</th>\n",
       "      <th>Surface</th>\n",
       "      <th>DM_M1</th>\n",
       "      <th>DM_M7</th>\n",
       "      <th>DM_M28</th>\n",
       "      <th>DM_M42</th>\n",
       "    </tr>\n",
       "  </thead>\n",
       "  <tbody>\n",
       "    <tr>\n",
       "      <th>46</th>\n",
       "      <td>33337</td>\n",
       "      <td>33337-2</td>\n",
       "      <td>NaN</td>\n",
       "      <td>Foot</td>\n",
       "      <td>Natural</td>\n",
       "      <td>1</td>\n",
       "      <td>1</td>\n",
       "      <td>1</td>\n",
       "      <td>1</td>\n",
       "    </tr>\n",
       "    <tr>\n",
       "      <th>47</th>\n",
       "      <td>45099</td>\n",
       "      <td>45099-5</td>\n",
       "      <td>NaN</td>\n",
       "      <td>Knee</td>\n",
       "      <td>Natural</td>\n",
       "      <td>1</td>\n",
       "      <td>1</td>\n",
       "      <td>1</td>\n",
       "      <td>1</td>\n",
       "    </tr>\n",
       "    <tr>\n",
       "      <th>48</th>\n",
       "      <td>36591</td>\n",
       "      <td>36591-9</td>\n",
       "      <td>NaN</td>\n",
       "      <td>Knee</td>\n",
       "      <td>Natural</td>\n",
       "      <td>1</td>\n",
       "      <td>1</td>\n",
       "      <td>1</td>\n",
       "      <td>1</td>\n",
       "    </tr>\n",
       "    <tr>\n",
       "      <th>49</th>\n",
       "      <td>45950</td>\n",
       "      <td>45950-6</td>\n",
       "      <td>NaN</td>\n",
       "      <td>Toes</td>\n",
       "      <td>Synthetic</td>\n",
       "      <td>1</td>\n",
       "      <td>1</td>\n",
       "      <td>0</td>\n",
       "      <td>0</td>\n",
       "    </tr>\n",
       "    <tr>\n",
       "      <th>50</th>\n",
       "      <td>39653</td>\n",
       "      <td>39653-4</td>\n",
       "      <td>NaN</td>\n",
       "      <td>Ankle</td>\n",
       "      <td>Synthetic</td>\n",
       "      <td>1</td>\n",
       "      <td>0</td>\n",
       "      <td>0</td>\n",
       "      <td>0</td>\n",
       "    </tr>\n",
       "  </tbody>\n",
       "</table>\n",
       "</div>"
      ],
      "text/plain": [
       "    PlayerKey   GameID PlayKey BodyPart    Surface  DM_M1  DM_M7  DM_M28  DM_M42\n",
       "46      33337  33337-2     NaN     Foot    Natural      1      1       1       1\n",
       "47      45099  45099-5     NaN     Knee    Natural      1      1       1       1\n",
       "48      36591  36591-9     NaN     Knee    Natural      1      1       1       1\n",
       "49      45950  45950-6     NaN     Toes  Synthetic      1      1       0       0\n",
       "50      39653  39653-4     NaN    Ankle  Synthetic      1      0       0       0"
      ]
     },
     "execution_count": 11,
     "metadata": {},
     "output_type": "execute_result"
    }
   ],
   "source": [
    "print(InjuryRecord[InjuryRecord.isna().any(axis=1)].shape)\n",
    "InjuryRecord[InjuryRecord.isna().any(axis=1)].head()"
   ]
  },
  {
   "cell_type": "markdown",
   "metadata": {
    "ExecuteTime": {
     "end_time": "2020-01-09T14:51:23.587356Z",
     "start_time": "2020-01-09T14:51:22.299971Z"
    }
   },
   "source": [
    "These NaNs will be filled by comparing GameIDs with the Playlist dataset"
   ]
  },
  {
   "cell_type": "code",
   "execution_count": 12,
   "metadata": {
    "ExecuteTime": {
     "end_time": "2020-01-18T16:32:26.616309Z",
     "start_time": "2020-01-18T16:32:25.947235Z"
    }
   },
   "outputs": [],
   "source": [
    "# get index of missing values in InjuryRecord\n",
    "idx_missng=InjuryRecord[InjuryRecord.isna().any(axis=1)].index\n",
    "import warnings\n",
    "warnings.filterwarnings('ignore')\n",
    "for i in idx_missng:\n",
    "    last_play=PlayList[PlayList['GameID']==InjuryRecord['GameID'].iloc[i]]['PlayKey'].iloc[-1]\n",
    "    InjuryRecord['PlayKey'].iloc[i]=last_play    "
   ]
  },
  {
   "cell_type": "markdown",
   "metadata": {
    "ExecuteTime": {
     "end_time": "2020-01-15T17:55:26.725000Z",
     "start_time": "2020-01-15T17:55:26.713452Z"
    }
   },
   "source": [
    "Days injured was assessed to see what were the lengths of injuries"
   ]
  },
  {
   "cell_type": "code",
   "execution_count": 13,
   "metadata": {
    "ExecuteTime": {
     "end_time": "2020-01-18T16:32:32.090918Z",
     "start_time": "2020-01-18T16:32:32.074961Z"
    }
   },
   "outputs": [],
   "source": [
    "days_injured = ['DM_M1','DM_M7','DM_M28','DM_M42']\n",
    "InjuryRecord['DM_Tally_sum']=InjuryRecord[days_injured].sum(axis=1)\n",
    "DM_length = {1:'1-7',2:'8-28',3:'29-42',4:'>42'}\n",
    "InjuryRecord['DM']=InjuryRecord['DM_Tally_sum'].map(DM_length)"
   ]
  },
  {
   "cell_type": "markdown",
   "metadata": {},
   "source": [
    "The InjuryRecord dataset will be merged with the Playlist dataset.  Merging is based on the InjuryRecord PlayKey."
   ]
  },
  {
   "cell_type": "code",
   "execution_count": 14,
   "metadata": {
    "ExecuteTime": {
     "end_time": "2020-01-18T16:32:34.732183Z",
     "start_time": "2020-01-18T16:32:34.461165Z"
    },
    "scrolled": true
   },
   "outputs": [],
   "source": [
    "ir_pl=pd.merge(InjuryRecord,PlayList,on='PlayKey',suffixes=['_Inj','_PL'],how='left')\n",
    "\n",
    "ir_pl=ir_pl.drop(['PlayerKey_PL','GameID_PL'],axis=1)\n",
    "ir_pl.rename(columns={'PlayerKey_Inj':'PlayerKey','GameID_Inj':'Game_ID'}, inplace=True)\n",
    "\n",
    "ir_pl=ir_pl.reset_index(drop=True)\n",
    "mask = (ir_pl['PlayKey']=='47285-4-16')# specific event that needed to be addressed\n",
    "ir_pl.loc[mask,'Stadium'] = 'Outdoors'\n",
    "ir_pl.loc[mask,'Weather_category'] = 'Clear'\n",
    "\n",
    "idx_missng=ir_pl[ir_pl.isna().any(axis=1)].index # cleaning up final loose ends\n",
    "ir_pl.loc[idx_missng,'Weather_category']='Cloudy'\n",
    "ir_pl.loc[idx_missng,'Stadium']='Indoors'\n",
    "\n",
    "# ir_pl.to_csv('ir_pl.csv', index=False)\n"
   ]
  },
  {
   "cell_type": "markdown",
   "metadata": {},
   "source": [
    "There is now a dataset that holds more detail on the injured players than what was provided."
   ]
  },
  {
   "cell_type": "markdown",
   "metadata": {},
   "source": [
    "# Data Visualizations"
   ]
  },
  {
   "cell_type": "markdown",
   "metadata": {},
   "source": [
    "An overview plot of the injuries recorded can be seen"
   ]
  },
  {
   "cell_type": "code",
   "execution_count": 15,
   "metadata": {
    "ExecuteTime": {
     "end_time": "2020-01-18T16:32:42.772725Z",
     "start_time": "2020-01-18T16:32:41.335832Z"
    }
   },
   "outputs": [
    {
     "data": {
      "image/png": "[encoded data removed]",
      "text/plain": [
       "<Figure size 1440x576 with 3 Axes>"
      ]
     },
     "metadata": {},
     "output_type": "display_data"
    }
   ],
   "source": [
    "sns.set(style=\"white\") \n",
    "fontlabelsize=16\n",
    "fontbold='bold'\n",
    "fontticksize=14\n",
    "from matplotlib import gridspec\n",
    "fig = plt.figure(figsize=(20,8))\n",
    "\n",
    "sup_title=fig.suptitle('Overview of Injuries for Two Regular Seasons',fontsize=20, fontweight='bold')\n",
    "gs = gridspec.GridSpec(1, 3, width_ratios=[2,2,3]) \n",
    "\n",
    "\n",
    "ax1= plt.subplot(gs[0])\n",
    "sns.countplot(x='BodyPart', hue='Surface', orient='h',data=ir_pl, palette='Set1')\n",
    "ax1.set_xlabel('Injured Body Part',fontsize=fontlabelsize,fontweight=fontbold)\n",
    "ax1.set_ylabel('Count',fontsize=fontlabelsize,fontweight=fontbold)\n",
    "ax1.grid(b=True,which='major', linewidth=.8)\n",
    "ax1.grid(b=True,which='minor', linewidth=.3)\n",
    "ax1.set_axisbelow(True)\n",
    "ax1.legend_.remove()\n",
    "\n",
    "for tick in ax1.xaxis.get_ticklabels():\n",
    "    tick.set(rotation=0)\n",
    "    tick.set_fontsize(fontticksize)\n",
    "    tick.set_fontweight('bold')\n",
    "for tick in ax1.yaxis.get_ticklabels():\n",
    "    tick.set_fontsize(fontticksize)\n",
    "    tick.set_fontweight('bold')\n",
    "                     \n",
    "for p in ax1.patches:\n",
    "    ax1.annotate('{:1.0f}'.format(p.get_height()), (p.get_x()+0.15, p.get_height()+.25),fontweight='bold')        \n",
    "\n",
    "ax2= plt.subplot(gs[1])\n",
    "sns.countplot(x='DM',order=['1-7','8-28','29-42','>42'], orient='h', hue='Surface',data=ir_pl, palette='Set1')\n",
    "ax2.set_xlabel('Days Missed due to Injury', fontsize=fontlabelsize,fontweight=fontbold)\n",
    "ax2.set_ylabel('Count',fontsize=fontlabelsize,fontweight=fontbold)\n",
    "ax2.grid(b=True,which='major', linewidth=.8)\n",
    "ax2.grid(b=True,which='minor', linewidth=.3)\n",
    "ax2.set_axisbelow(True)\n",
    "ax2.legend_.remove()\n",
    "\n",
    "for tick in ax2.xaxis.get_ticklabels():\n",
    "    tick.set(rotation=0)\n",
    "    tick.set_fontsize(fontticksize)\n",
    "    tick.set_fontweight('bold')\n",
    "for tick in ax2.yaxis.get_ticklabels():\n",
    "    tick.set_fontsize(fontticksize)\n",
    "    tick.set_fontweight('bold')\n",
    "\n",
    "for p in ax2.patches:\n",
    "    ax2.annotate('{:1.0f}'.format(p.get_height()), (p.get_x()+0.15, p.get_height()+.25),fontweight='bold')\n",
    "\n",
    "\n",
    "ax3= plt.subplot(gs[2])\n",
    "sns.countplot(x='Position', hue='Surface', orient='h',data=ir_pl, palette='Set1')\n",
    "ax3.set_xlabel('Injuries per Position',fontsize=fontlabelsize,fontweight=fontbold)\n",
    "ax3.set_ylabel('Count',fontsize=fontlabelsize,fontweight=fontbold)\n",
    "ax3.grid(b=True,which='major', linewidth=.8)\n",
    "ax3.grid(b=True,which='minor', linewidth=.3)\n",
    "ax3.set_axisbelow(True)\n",
    "ax3.legend_.remove()\n",
    "\n",
    "for tick in ax3.xaxis.get_ticklabels():\n",
    "    tick.set(rotation=-30)\n",
    "    tick.set_fontsize(fontticksize)\n",
    "    tick.set_fontweight('bold')\n",
    "for tick in ax3.yaxis.get_ticklabels():\n",
    "    tick.set_fontsize(fontticksize)\n",
    "    tick.set_fontweight('bold')\n",
    "                     \n",
    "for p in ax3.patches:\n",
    "    ax3.annotate('{:1.0f}'.format(p.get_height()), (p.get_x()+0.1, p.get_height()+.25),fontweight='bold')        \n",
    "\n",
    "legend_properties = {'weight':'bold'}\n",
    "   \n",
    "bbox = (fig.subplotpars.left+.8, fig.subplotpars.top-.35, fig.subplotpars.right-fig.subplotpars.left-.745,.1)\n",
    "ax3.legend(bbox_to_anchor=bbox, loc='lower left', ncol=1, borderaxespad=0., bbox_transform=fig.transFigure,\n",
    "           fontsize=16,frameon=False,title='Field Type',title_fontsize=18,prop=legend_properties)\n",
    "ax3.get_legend().get_title().set_fontweight('bold')\n",
    "\n",
    "# plt.savefig('days_injured.png',bbox_inches='tight')\n",
    "plt.show()"
   ]
  },
  {
   "cell_type": "markdown",
   "metadata": {},
   "source": [
    "Another plot is created to view injuries to specific positions"
   ]
  },
  {
   "cell_type": "code",
   "execution_count": 16,
   "metadata": {
    "ExecuteTime": {
     "end_time": "2020-01-18T16:32:49.908457Z",
     "start_time": "2020-01-18T16:32:46.137053Z"
    }
   },
   "outputs": [
    {
     "data": {
      "image/png": "[encoded data removed]",
      "text/plain": [
       "<Figure size 1080x540 with 15 Axes>"
      ]
     },
     "metadata": {},
     "output_type": "display_data"
    }
   ],
   "source": [
    "# set seaborn figure aesthetics\n",
    "sns.set(style=\"white\")\n",
    "# set font tick size\n",
    "fontticksize=13\n",
    "# set dictionary for labeling x, y, and title\n",
    "font = {'color':  'black',\n",
    "        'weight': 'bold',\n",
    "        'size': 16}\n",
    "\n",
    "# use seaborn catplot function to show counts of categorical data\n",
    "\n",
    "cat_plot=sns.catplot(x='BodyPart',hue='FieldType', col='Position', data=ir_pl, palette='Set1', height=2.5, aspect=1,\n",
    "                     col_wrap=6, kind='count',sharey=True,sharex=False,legend=False, legend_out=False)\n",
    "\n",
    "\n",
    "# create list of position names that will be used for individual titles \n",
    "position_names = ir_pl['Position'].unique()\n",
    "\n",
    "# call each plot from the sns.catplot function\n",
    "for i, ax in enumerate(cat_plot.axes):\n",
    "    \n",
    "    ax.set_title(position_names[i],fontdict=font) # set title    \n",
    "    ax.set_ylim(0,9) # set y limits\n",
    "    ax.set_yticks(np.arange(0,9,1)) # set number of y ticks\n",
    "    ax.set_xlabel('') # set x label\n",
    "    \n",
    "    # call the tick labels of the x and y axes\n",
    "    for tick in ax.xaxis.get_ticklabels():\n",
    "        tick.set(rotation=-15) # set tick rotation\n",
    "        tick.set_fontsize(fontticksize) # set tick font size\n",
    "        tick.set_fontweight('bold') # set tick font weight\n",
    "    for tick in ax.yaxis.get_ticklabels():\n",
    "        tick.set_fontsize(fontticksize)\n",
    "        tick.set(rotation=0)\n",
    "        tick.set_fontweight('bold')\n",
    "    \n",
    "    # put labels on top of bar that represents the count.  Adjust x-axis and height here (follow the arrows)\n",
    "    #                                                              |                  |\n",
    "    for p in ax.patches: #                                         V                  V\n",
    "        ax.annotate('{:1.0f}'.format(p.get_height()), (p.get_x()+0.1, p.get_height()+.25),fontsize=fontticksize, fontweight='bold')\n",
    "        \n",
    "    # set the major y axis grid to specific linewidth\n",
    "    ax.grid(b=True,which='major',axis='y', linewidth=.8)\n",
    "    # bring the bars to be in front of the gridlines for better visibility\n",
    "    ax.set_axisbelow(True)\n",
    "\n",
    "    \n",
    "# changing aesthetics of the overall figure now.\n",
    "\n",
    "cat_plot.set_ylabels('Count',fontdict=font)\n",
    "# assign the overall cat_plot figure \n",
    "fig=cat_plot.fig\n",
    "# adjst space between the individual plots\n",
    "fig.subplots_adjust(bottom=0.0, hspace=0.5, wspace=0.05)\n",
    "# add a title that is centered over the figure\n",
    "sup_title= fig.suptitle('Injury by Positional Player',fontsize=20,fontweight='bold')\n",
    "# adjst the space between title and plot\n",
    "sup_title.set_y(1.06)\n",
    "\n",
    "# assign legend properties\n",
    "legend_properties = {'weight':'bold','size':14}\n",
    "# assign location of where the legend will be placed.  Change vaules to shift legend\n",
    "x_shift = 0.98\n",
    "y_shift = 0.45\n",
    "bbox = (fig.subplotpars.left+x_shift, fig.subplotpars.top-y_shift, fig.subplotpars.right-fig.subplotpars.left,.1)\n",
    "# assign legened to figureusing bbox coordinates\n",
    "ax.legend(bbox_to_anchor=bbox, loc='lower left', ncol=1, borderaxespad=0., bbox_transform=fig.transFigure,\n",
    "                   frameon=False,title='Field Type',prop=legend_properties)\n",
    "\n",
    "# set font weight and font size of the legend title\n",
    "ax.get_legend().get_title().set_fontweight('bold')\n",
    "ax.get_legend().get_title().set_fontsize(22)\n",
    "\n",
    "\n",
    "# plt.savefig('position_injury.png',bbox_inches='tight',dpi=160)\n",
    "\n",
    "plt.show()"
   ]
  },
  {
   "cell_type": "markdown",
   "metadata": {},
   "source": [
    "It is clear that a large number of CBs and WRs were injured.  Cornerbacks and wide recievers are similiar in play movement as they mosly cover each other.  There are 70 players that are labeled as CB or WR.  Of those 70, 37 were injured (>50%). This information is what drives the quesion can I predict injury to CBs and or WRs given ther NGS?  Their information PlayerKey is going to be used to collect all their NGS from the PlayTrackData dataset. The PlayTrackData is very large so I will read the data in chunks."
   ]
  },
  {
   "cell_type": "code",
   "execution_count": 17,
   "metadata": {
    "ExecuteTime": {
     "end_time": "2020-01-18T17:56:32.226416Z",
     "start_time": "2020-01-18T16:36:10.698681Z"
    }
   },
   "outputs": [],
   "source": [
    "# finding CB WR NGS by parsing through PlayerTrackData.\n",
    "j=0\n",
    "tot=0\n",
    "CB_WR_plays=pd.DataFrame()\n",
    "chunks=4000000\n",
    "\n",
    "mask = (PlayList['Position']=='CB') | (PlayList['Position']=='WR')\n",
    "cb_wr_id=PlayList.loc[mask,'PlayerKey'].unique().astype('int')\n",
    "\n",
    "for batch in pd.read_csv('PlayerTrackData.csv',iterator=True, chunksize=chunks):\n",
    "    j=j+1\n",
    "    tot=tot+len(batch)\n",
    "#     print(j)\n",
    "    batch['PlayerKey']=batch['PlayKey'].apply(lambda x: x.split('-')[0]).astype('int')\n",
    "    \n",
    "    for idx, ID in enumerate(list(cb_wr_id)):\n",
    "        grab=batch.loc[batch['PlayerKey']==ID]\n",
    "        CB_WR_plays=CB_WR_plays.append(grab)\n",
    "#     if j==5:\n",
    "#         break\n",
    "\n",
    "CB_WR_plays['GameID']=CB_WR_plays['PlayKey'].apply(lambda x: x.split('-')[1]).astype('int')\n",
    "CB_WR_plays['PlayerGame']=CB_WR_plays['PlayKey'].apply(lambda x: x.split('-')[2]).astype('int')\n",
    "\n",
    "CB_WR_plays=CB_WR_plays.reset_index(drop=True)\n",
    "idx=CB_WR_plays.loc[(CB_WR_plays['PlayerKey'] == 46134) & (CB_WR_plays['GameID'] < 11)].index # this player did not play cornerback until game 11.\n",
    "CB_WR_plays=CB_WR_plays.drop(idx,axis=0)\n",
    "\n",
    "# CB_WR_plays.to_csv('CB_WR_plays.csv', index=False)\n"
   ]
  },
  {
   "cell_type": "code",
   "execution_count": 2,
   "metadata": {
    "ExecuteTime": {
     "end_time": "2020-01-17T16:26:21.844169Z",
     "start_time": "2020-01-17T16:25:42.200724Z"
    }
   },
   "outputs": [
    {
     "data": {
      "text/plain": [
       "(21559225, 12)"
      ]
     },
     "execution_count": 2,
     "metadata": {},
     "output_type": "execute_result"
    }
   ],
   "source": [
    "# read in previously made datasets\n",
    "InjuryRecord = pd.read_csv('InjuryRecord.csv')\n",
    "PlayList = pd.read_csv('PlayList_mod.csv')\n",
    "CB_WR_plays=pd.read_csv('CB_WR_plays.csv')\n",
    "ir_pl=pd.read_csv('ir_pl.csv')\n",
    "# CB_WR_plays.shape"
   ]
  },
  {
   "cell_type": "markdown",
   "metadata": {},
   "source": [
    "Clearly there are many more plays where CBs and WRs are not injured than those that are.  Because of this, I will pick plays at random that the player did not suffer an injury."
   ]
  },
  {
   "cell_type": "code",
   "execution_count": 3,
   "metadata": {
    "ExecuteTime": {
     "end_time": "2020-01-17T16:27:35.983392Z",
     "start_time": "2020-01-17T16:27:35.761252Z"
    }
   },
   "outputs": [
    {
     "data": {
      "text/plain": [
       "(222, 11)"
      ]
     },
     "execution_count": 3,
     "metadata": {},
     "output_type": "execute_result"
    }
   ],
   "source": [
    "cols=['PlayerKey','Position','PlayerGame','PlayerGamePlay','PlayKey','FieldType','PlayType','Weather_category','Temperature','Stadium']\n",
    "mask = (ir_pl['Position']=='CB') | (ir_pl['Position']=='WR')\n",
    "cb_wr_injured = ir_pl[mask][cols]\n",
    "cb_wr_injured['Status'] = 'Injured'\n",
    "# print(cb_wr_injured.shape)\n",
    "\n",
    "cb_wr_inj_playkey = cb_wr_injured['PlayKey'].unique()\n",
    "mask = (PlayList['Position']=='CB') | (PlayList['Position']=='WR') & (PlayList['Stadium'].notnull()) & (PlayList['Weather_category'].notnull())\n",
    "cb_wr_all = PlayList[mask][cols]\n",
    "\n",
    "# create mask that holds index of only healthy plays\n",
    "mask = (cb_wr_all['Stadium'].notnull()) & (cb_wr_all['Weather_category'].notnull())\n",
    "cb_wr_all = cb_wr_all[mask][cols]\n",
    "non_inj_index=cb_wr_all.loc[~cb_wr_all['PlayKey'].isin(cb_wr_inj_playkey)].index\n",
    "\n",
    "cb_wr_healthy=cb_wr_all.loc[non_inj_index].sample(n=185, random_state=111) # pick 185 random plays.  Injured plays make up 1/5 of the total plays used in this analysis\n",
    "cb_wr_healthy['Status'] = 'Healthy'\n",
    "# print(cb_wr_healthy.shape)\n",
    "\n",
    "data=pd.concat([cb_wr_injured,cb_wr_healthy]).reset_index(drop=True)\n",
    "data.shape\n"
   ]
  },
  {
   "cell_type": "markdown",
   "metadata": {
    "ExecuteTime": {
     "end_time": "2020-01-17T16:31:50.140006Z",
     "start_time": "2020-01-17T16:31:45.147636Z"
    }
   },
   "source": [
    "Below is a visualization of a specific play that was recorded using the ngs data.  Time, speed, orientation, and direction was given with play info and event.  I my self made calculations that allowed me to plot the change in speed and direction from basline.  More of these graphs and the code to make them can be found here "
   ]
  },
  {
   "cell_type": "markdown",
   "metadata": {},
   "source": [
    "<img src=\"43532-5-69_play_movements.png\">"
   ]
  },
  {
   "cell_type": "markdown",
   "metadata": {},
   "source": [
    "More of these plots can be found in the github repository.  Observations shows player orienation is not reliable and not well defined via the kaggle description of the data.  I wanted to investigate if the change in speed and direction played a role in injuries. Perhaps abrupt changes in these give way to injuries in players.  "
   ]
  },
  {
   "cell_type": "markdown",
   "metadata": {},
   "source": [
    "Here I perform feature selection and feature extraction to create a dataset that will be used for machine learning.  From the NGS provided, I select the max speed, total distance traveled.  I also calculate the average change in direction, the standard deviation in change in direction, the total number of changes in direction value above 2.5 stds, the max value change in direction, and the max value change in speed"
   ]
  },
  {
   "cell_type": "code",
   "execution_count": 9,
   "metadata": {
    "ExecuteTime": {
     "end_time": "2020-01-17T16:50:16.088067Z",
     "start_time": "2020-01-17T16:43:32.495469Z"
    }
   },
   "outputs": [],
   "source": [
    "data_playkey = data['PlayKey'].unique()\n",
    "gg=[]\n",
    "for pt, play in enumerate(data_playkey):\n",
    "    mask = (CB_WR_plays['PlayKey']==play)\n",
    "\n",
    "    cb_wr_play = CB_WR_plays[mask].reset_index()\n",
    "    cb_wr_play[cb_wr_play['event'].notnull()]\n",
    "    idx=cb_wr_play[cb_wr_play['event'].notnull()].index+30 # \n",
    "    mask= (cb_wr_play.index<=idx[-1]) # evaluate all  ngs up until 3 seconds after the last recorded event \n",
    "    cb_wr_play=cb_wr_play[mask]\n",
    "    \n",
    "    metrics=[]\n",
    "    for idx, step in enumerate(cb_wr_play['dir']):\n",
    "        if cb_wr_play['dir'].iloc[idx+1]<90 and cb_wr_play['dir'].iloc[idx]>250:\n",
    "            d_dir=cb_wr_play['dir'].iloc[idx+1]+(360-cb_wr_play['dir'].iloc[idx])\n",
    "\n",
    "        elif cb_wr_play['dir'].iloc[idx+1]>250 and cb_wr_play['dir'].iloc[idx]<90:\n",
    "            d_dir=-(cb_wr_play['dir'].iloc[idx]+(360-cb_wr_play['dir'].iloc[idx+1]))\n",
    "        else:\n",
    "            d_dir=cb_wr_play['dir'].iloc[idx+1]-cb_wr_play['dir'].iloc[idx]\n",
    "            \n",
    "            \n",
    "        metrics.append((cb_wr_play['time'].iloc[idx+1],\n",
    "                        cb_wr_play['event'].iloc[idx],\n",
    "                        cb_wr_play['time'].iloc[idx+1]-cb_wr_play['time'].iloc[idx],                    \n",
    "                        d_dir,\n",
    "                        cb_wr_play['dis'].iloc[idx+1]-cb_wr_play['dis'].iloc[idx],\n",
    "                        cb_wr_play['o'].iloc[idx+1]-cb_wr_play['o'].iloc[idx],\n",
    "                        cb_wr_play['s'].iloc[idx+1]-cb_wr_play['s'].iloc[idx]))\n",
    "        \n",
    "        if idx==len(cb_wr_play['dir'])-2:\n",
    "            break\n",
    "\n",
    "            \n",
    "    df=pd.DataFrame(metrics,columns=('time','event','delta_time','delta_direction','delta_distance','delta_orient','delta_speed'))\n",
    "    \n",
    "    a=cb_wr_play['s'].max() # max speed\n",
    "    b=cb_wr_play['dis'].abs().sum() # total distance traveled\n",
    "    c=df['delta_direction'].abs().mean() # average change in direction\n",
    "    d=df['delta_direction'].abs().std() # standard deviation in change in direction\n",
    "    e=df[df['delta_direction'].abs()>(2.5*d)]['delta_direction'].count() # total number of changes in direction value above 2.5 stds.\n",
    "    f=df['delta_direction'].abs().max() # max value change in direction\n",
    "    g=df['delta_speed'].abs().max() # max value change in speed\n",
    "    \n",
    "    # looking to see if max delta speed and/or max delta direction take place within one second of an event\n",
    "    h=np.array(df.loc[df['delta_speed'].abs()==g].index) \n",
    "    i=np.array(df.loc[df['delta_direction'].abs()==f].index)\n",
    "    j=np.array(df.loc[df['event'].notnull()].index)\n",
    "    delta_t_s_d=0\n",
    "    delta_t_event_d=0\n",
    "    delta_t_event_s=0\n",
    "    for pt2 in h:\n",
    "        pp2=(np.abs(pt2-i)<10).sum()\n",
    "        delta_t_s_d=delta_t_s_d+pp2\n",
    "\n",
    "    for pt3 in j:\n",
    "        pp3=(np.abs(pt3-i)<10).sum()\n",
    "        delta_t_event_d=delta_t_event_d+pp3\n",
    "\n",
    "        pp4=(np.abs(pt3-h)<10).sum()\n",
    "        delta_t_event_s=delta_t_event_s+pp4\n",
    "\n",
    "\n",
    "    gg.append((play,a,b,c,d,e,f,g,delta_t_s_d,delta_t_event_d,delta_t_event_s))#,h,i,j))\n",
    "    \n",
    "\n",
    "ngs_stats=pd.DataFrame(gg,columns=('PlayKey','max_speed','distance_traveled','avg_delta_dir','std_delta_dir',\n",
    "                                   'dir_cuts','max_delta_direction','max_delta_speed','delta_t_s_d','delta_t_event_d','delta_t_event_s'))\n"
   ]
  },
  {
   "cell_type": "code",
   "execution_count": 10,
   "metadata": {
    "ExecuteTime": {
     "end_time": "2020-01-17T17:04:34.240058Z",
     "start_time": "2020-01-17T17:04:34.186307Z"
    }
   },
   "outputs": [
    {
     "data": {
      "text/html": [
       "<div>\n",
       "<style scoped>\n",
       "    .dataframe tbody tr th:only-of-type {\n",
       "        vertical-align: middle;\n",
       "    }\n",
       "\n",
       "    .dataframe tbody tr th {\n",
       "        vertical-align: top;\n",
       "    }\n",
       "\n",
       "    .dataframe thead th {\n",
       "        text-align: right;\n",
       "    }\n",
       "</style>\n",
       "<table border=\"1\" class=\"dataframe\">\n",
       "  <thead>\n",
       "    <tr style=\"text-align: right;\">\n",
       "      <th></th>\n",
       "      <th>PlayKey</th>\n",
       "      <th>max_speed</th>\n",
       "      <th>distance_traveled</th>\n",
       "      <th>avg_delta_dir</th>\n",
       "      <th>std_delta_dir</th>\n",
       "      <th>dir_cuts</th>\n",
       "      <th>max_delta_direction</th>\n",
       "      <th>max_delta_speed</th>\n",
       "      <th>delta_t_s_d</th>\n",
       "      <th>delta_t_event_d</th>\n",
       "      <th>delta_t_event_s</th>\n",
       "    </tr>\n",
       "  </thead>\n",
       "  <tbody>\n",
       "    <tr>\n",
       "      <th>0</th>\n",
       "      <td>43532-5-69</td>\n",
       "      <td>4.73</td>\n",
       "      <td>26.93</td>\n",
       "      <td>4.493593</td>\n",
       "      <td>7.024295</td>\n",
       "      <td>7</td>\n",
       "      <td>55.95</td>\n",
       "      <td>0.27</td>\n",
       "      <td>0</td>\n",
       "      <td>0</td>\n",
       "      <td>2</td>\n",
       "    </tr>\n",
       "    <tr>\n",
       "      <th>1</th>\n",
       "      <td>45962-8-40</td>\n",
       "      <td>4.99</td>\n",
       "      <td>22.52</td>\n",
       "      <td>3.624797</td>\n",
       "      <td>4.428082</td>\n",
       "      <td>10</td>\n",
       "      <td>29.01</td>\n",
       "      <td>0.33</td>\n",
       "      <td>0</td>\n",
       "      <td>1</td>\n",
       "      <td>0</td>\n",
       "    </tr>\n",
       "    <tr>\n",
       "      <th>2</th>\n",
       "      <td>39656-2-38</td>\n",
       "      <td>6.38</td>\n",
       "      <td>32.67</td>\n",
       "      <td>3.218268</td>\n",
       "      <td>5.297176</td>\n",
       "      <td>10</td>\n",
       "      <td>32.70</td>\n",
       "      <td>0.41</td>\n",
       "      <td>0</td>\n",
       "      <td>0</td>\n",
       "      <td>0</td>\n",
       "    </tr>\n",
       "    <tr>\n",
       "      <th>3</th>\n",
       "      <td>46587-2-13</td>\n",
       "      <td>9.42</td>\n",
       "      <td>66.24</td>\n",
       "      <td>4.387508</td>\n",
       "      <td>14.308021</td>\n",
       "      <td>5</td>\n",
       "      <td>181.96</td>\n",
       "      <td>0.46</td>\n",
       "      <td>0</td>\n",
       "      <td>0</td>\n",
       "      <td>1</td>\n",
       "    </tr>\n",
       "    <tr>\n",
       "      <th>4</th>\n",
       "      <td>38364-5-23</td>\n",
       "      <td>7.75</td>\n",
       "      <td>42.20</td>\n",
       "      <td>4.318437</td>\n",
       "      <td>8.599630</td>\n",
       "      <td>3</td>\n",
       "      <td>86.82</td>\n",
       "      <td>0.36</td>\n",
       "      <td>0</td>\n",
       "      <td>0</td>\n",
       "      <td>2</td>\n",
       "    </tr>\n",
       "  </tbody>\n",
       "</table>\n",
       "</div>"
      ],
      "text/plain": [
       "      PlayKey  max_speed  distance_traveled  avg_delta_dir  std_delta_dir  dir_cuts  max_delta_direction  max_delta_speed  delta_t_s_d  delta_t_event_d  delta_t_event_s\n",
       "0  43532-5-69       4.73              26.93       4.493593       7.024295         7                55.95             0.27            0                0                2\n",
       "1  45962-8-40       4.99              22.52       3.624797       4.428082        10                29.01             0.33            0                1                0\n",
       "2  39656-2-38       6.38              32.67       3.218268       5.297176        10                32.70             0.41            0                0                0\n",
       "3  46587-2-13       9.42              66.24       4.387508      14.308021         5               181.96             0.46            0                0                1\n",
       "4  38364-5-23       7.75              42.20       4.318437       8.599630         3                86.82             0.36            0                0                2"
      ]
     },
     "execution_count": 10,
     "metadata": {},
     "output_type": "execute_result"
    }
   ],
   "source": [
    "ngs_stats.head()"
   ]
  },
  {
   "cell_type": "code",
   "execution_count": 12,
   "metadata": {
    "ExecuteTime": {
     "end_time": "2020-01-17T17:06:42.194779Z",
     "start_time": "2020-01-17T17:06:42.132320Z"
    }
   },
   "outputs": [
    {
     "data": {
      "text/html": [
       "<div>\n",
       "<style scoped>\n",
       "    .dataframe tbody tr th:only-of-type {\n",
       "        vertical-align: middle;\n",
       "    }\n",
       "\n",
       "    .dataframe tbody tr th {\n",
       "        vertical-align: top;\n",
       "    }\n",
       "\n",
       "    .dataframe thead th {\n",
       "        text-align: right;\n",
       "    }\n",
       "</style>\n",
       "<table border=\"1\" class=\"dataframe\">\n",
       "  <thead>\n",
       "    <tr style=\"text-align: right;\">\n",
       "      <th></th>\n",
       "      <th>PlayerGame</th>\n",
       "      <th>PlayerGamePlay</th>\n",
       "      <th>FieldType</th>\n",
       "      <th>PlayType</th>\n",
       "      <th>Weather_category</th>\n",
       "      <th>Temperature</th>\n",
       "      <th>Stadium</th>\n",
       "      <th>Status</th>\n",
       "      <th>max_speed</th>\n",
       "      <th>distance_traveled</th>\n",
       "      <th>avg_delta_dir</th>\n",
       "      <th>std_delta_dir</th>\n",
       "      <th>dir_cuts</th>\n",
       "      <th>max_delta_direction</th>\n",
       "      <th>max_delta_speed</th>\n",
       "      <th>delta_t_s_d</th>\n",
       "      <th>delta_t_event_d</th>\n",
       "      <th>delta_t_event_s</th>\n",
       "    </tr>\n",
       "  </thead>\n",
       "  <tbody>\n",
       "    <tr>\n",
       "      <th>0</th>\n",
       "      <td>5</td>\n",
       "      <td>69</td>\n",
       "      <td>Synthetic</td>\n",
       "      <td>Kickoff</td>\n",
       "      <td>Cloudy</td>\n",
       "      <td>89</td>\n",
       "      <td>Indoors</td>\n",
       "      <td>Injured</td>\n",
       "      <td>4.73</td>\n",
       "      <td>26.93</td>\n",
       "      <td>4.493593</td>\n",
       "      <td>7.024295</td>\n",
       "      <td>7</td>\n",
       "      <td>55.95</td>\n",
       "      <td>0.27</td>\n",
       "      <td>0</td>\n",
       "      <td>0</td>\n",
       "      <td>2</td>\n",
       "    </tr>\n",
       "    <tr>\n",
       "      <th>1</th>\n",
       "      <td>8</td>\n",
       "      <td>40</td>\n",
       "      <td>Synthetic</td>\n",
       "      <td>Pass</td>\n",
       "      <td>Clear</td>\n",
       "      <td>68</td>\n",
       "      <td>Outdoors</td>\n",
       "      <td>Injured</td>\n",
       "      <td>4.99</td>\n",
       "      <td>22.52</td>\n",
       "      <td>3.624797</td>\n",
       "      <td>4.428082</td>\n",
       "      <td>10</td>\n",
       "      <td>29.01</td>\n",
       "      <td>0.33</td>\n",
       "      <td>0</td>\n",
       "      <td>1</td>\n",
       "      <td>0</td>\n",
       "    </tr>\n",
       "    <tr>\n",
       "      <th>2</th>\n",
       "      <td>2</td>\n",
       "      <td>38</td>\n",
       "      <td>Synthetic</td>\n",
       "      <td>Pass</td>\n",
       "      <td>Clear</td>\n",
       "      <td>68</td>\n",
       "      <td>Indoors</td>\n",
       "      <td>Injured</td>\n",
       "      <td>6.38</td>\n",
       "      <td>32.67</td>\n",
       "      <td>3.218268</td>\n",
       "      <td>5.297176</td>\n",
       "      <td>10</td>\n",
       "      <td>32.70</td>\n",
       "      <td>0.41</td>\n",
       "      <td>0</td>\n",
       "      <td>0</td>\n",
       "      <td>0</td>\n",
       "    </tr>\n",
       "    <tr>\n",
       "      <th>3</th>\n",
       "      <td>2</td>\n",
       "      <td>13</td>\n",
       "      <td>Synthetic</td>\n",
       "      <td>Kickoff</td>\n",
       "      <td>Cloudy</td>\n",
       "      <td>68</td>\n",
       "      <td>Indoors</td>\n",
       "      <td>Injured</td>\n",
       "      <td>9.42</td>\n",
       "      <td>66.24</td>\n",
       "      <td>4.387508</td>\n",
       "      <td>14.308021</td>\n",
       "      <td>5</td>\n",
       "      <td>181.96</td>\n",
       "      <td>0.46</td>\n",
       "      <td>0</td>\n",
       "      <td>0</td>\n",
       "      <td>1</td>\n",
       "    </tr>\n",
       "    <tr>\n",
       "      <th>4</th>\n",
       "      <td>5</td>\n",
       "      <td>23</td>\n",
       "      <td>Synthetic</td>\n",
       "      <td>Kickoff</td>\n",
       "      <td>Cloudy</td>\n",
       "      <td>76</td>\n",
       "      <td>Indoors</td>\n",
       "      <td>Injured</td>\n",
       "      <td>7.75</td>\n",
       "      <td>42.20</td>\n",
       "      <td>4.318437</td>\n",
       "      <td>8.599630</td>\n",
       "      <td>3</td>\n",
       "      <td>86.82</td>\n",
       "      <td>0.36</td>\n",
       "      <td>0</td>\n",
       "      <td>0</td>\n",
       "      <td>2</td>\n",
       "    </tr>\n",
       "  </tbody>\n",
       "</table>\n",
       "</div>"
      ],
      "text/plain": [
       "   PlayerGame  PlayerGamePlay  FieldType PlayType Weather_category  Temperature   Stadium   Status  max_speed  distance_traveled  avg_delta_dir  std_delta_dir  dir_cuts  max_delta_direction  max_delta_speed  delta_t_s_d  delta_t_event_d  delta_t_event_s\n",
       "0           5              69  Synthetic  Kickoff           Cloudy           89   Indoors  Injured       4.73              26.93       4.493593       7.024295         7                55.95             0.27            0                0                2\n",
       "1           8              40  Synthetic     Pass            Clear           68  Outdoors  Injured       4.99              22.52       3.624797       4.428082        10                29.01             0.33            0                1                0\n",
       "2           2              38  Synthetic     Pass            Clear           68   Indoors  Injured       6.38              32.67       3.218268       5.297176        10                32.70             0.41            0                0                0\n",
       "3           2              13  Synthetic  Kickoff           Cloudy           68   Indoors  Injured       9.42              66.24       4.387508      14.308021         5               181.96             0.46            0                0                1\n",
       "4           5              23  Synthetic  Kickoff           Cloudy           76   Indoors  Injured       7.75              42.20       4.318437       8.599630         3                86.82             0.36            0                0                2"
      ]
     },
     "execution_count": 12,
     "metadata": {},
     "output_type": "execute_result"
    }
   ],
   "source": [
    "features=pd.merge(data,ngs_stats,on='PlayKey',how='left')\n",
    "features.head()\n",
    "features[features.isna().any(axis=1)]\n",
    "features=features.drop(['PlayerKey','Position','PlayKey'],axis=1)\n",
    "# features.to_csv('features.csv',index=False)\n",
    "features.head()"
   ]
  },
  {
   "cell_type": "code",
   "execution_count": null,
   "metadata": {},
   "outputs": [],
   "source": []
  },
  {
   "cell_type": "code",
   "execution_count": 71,
   "metadata": {
    "ExecuteTime": {
     "end_time": "2020-01-17T17:58:12.272777Z",
     "start_time": "2020-01-17T17:58:12.116197Z"
    }
   },
   "outputs": [
    {
     "name": "stdout",
     "output_type": "stream",
     "text": [
      "Accuracy is: 0.8208955223880597\n",
      "Precision score is: 0.3333333333333333\n",
      "Recall score is: 0.09090909090909091\n",
      "F1 score is: 0.14285714285714288\n",
      "AUC Score is: 0.42694805194805197\n"
     ]
    }
   ],
   "source": [
    "# turn categorical to numeric!\n",
    "features=pd.read_csv('features.csv')\n",
    "\n",
    "features=pd.get_dummies(features,prefix=['Type'],columns=['PlayType'])\n",
    "features=pd.get_dummies(features,prefix=['Stadium'],columns=['Stadium'])\n",
    "features=pd.get_dummies(features,prefix=['FieldType'],columns=['FieldType'])\n",
    "features=pd.get_dummies(features,prefix=['Weather'],columns=['Weather_category'])\n",
    "\n",
    "features['Status'] = features['Status'].apply(lambda x: 1 if x=='Injured' else 0) # turn target information from categorical to numeric\n",
    "features=features.astype('float')\n",
    "\n",
    "from sklearn.preprocessing import StandardScaler\n",
    "from sklearn.model_selection import train_test_split\n",
    "from sklearn.model_selection import GridSearchCV\n",
    "from sklearn import metrics\n",
    "from xgboost import XGBClassifier\n",
    "\n",
    "X, y = features[features.columns.drop('Status')], features['Status']\n",
    "scaler = StandardScaler()\n",
    "# import warnings\n",
    "# warnings.filterwarnings('ignore')\n",
    "X[X.columns[:].tolist()] = scaler.fit_transform(X[X.columns[:].tolist()]) # keep X as a dataframe\n",
    "\n",
    "X_train, X_test, y_train, y_test = train_test_split(X,y,test_size=.3,random_state=21)\n",
    "\n",
    "clf = XGBClassifier(learning_rate=0.1, n_estimators=150, max_depth=4,\n",
    "                    min_child_weight=3, gamma=0.2, subsample=0.5, colsample_bytree=1.0,\n",
    "                    objective='binary:logistic', scale_pos_weight=1, seed=27)\n",
    "\n",
    "xgtrain = xgb.DMatrix(X_train.values, label=y_train.values)\n",
    "\n",
    "\n",
    "clf.fit(X_train, y_train, eval_metric='auc')\n",
    "\n",
    "\n",
    "y_pred = clf.predict(X_test)\n",
    "y_pred_proba = clf.predict_proba(X_test)[:, 1]\n",
    "\n",
    "print(\"Accuracy is: {}\".format(metrics.accuracy_score(y_test, y_pred)))\n",
    "print(\"Precision score is: {}\".format(metrics.precision_score(y_test, y_pred)))\n",
    "print(\"Recall score is: {}\".format(metrics.recall_score(y_test, y_pred)))\n",
    "print(\"F1 score is: {}\".format(metrics.f1_score(y_test, y_pred)))\n",
    "print(\"AUC Score is: {}\".format(metrics.roc_auc_score(y_test, y_pred_proba)))"
   ]
  },
  {
   "cell_type": "code",
   "execution_count": null,
   "metadata": {},
   "outputs": [],
   "source": []
  },
  {
   "cell_type": "code",
   "execution_count": null,
   "metadata": {},
   "outputs": [],
   "source": []
  },
  {
   "cell_type": "code",
   "execution_count": null,
   "metadata": {},
   "outputs": [],
   "source": []
  },
  {
   "cell_type": "code",
   "execution_count": null,
   "metadata": {},
   "outputs": [],
   "source": []
  }
 ],
 "metadata": {
  "kernelspec": {
   "display_name": "Python 3",
   "language": "python",
   "name": "python3"
  },
  "language_info": {
   "codemirror_mode": {
    "name": "ipython",
    "version": 3
   },
   "file_extension": ".py",
   "mimetype": "text/x-python",
   "name": "python",
   "nbconvert_exporter": "python",
   "pygments_lexer": "ipython3",
   "version": "3.7.3"
  }
 },
 "nbformat": 4,
 "nbformat_minor": 2
}
