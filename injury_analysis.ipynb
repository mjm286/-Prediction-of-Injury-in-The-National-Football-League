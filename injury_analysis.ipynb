{
 "cells": [
  {
   "cell_type": "markdown",
   "metadata": {
    "ExecuteTime": {
     "end_time": "2020-01-09T14:20:13.465274Z",
     "start_time": "2020-01-09T14:19:54.719780Z"
    }
   },
   "source": [
    "# Prediction of Injury in the National Football League\n",
    "Matthew McCarroll 04/22/2020"
   ]
  },
  {
   "cell_type": "markdown",
   "metadata": {
    "ExecuteTime": {
     "end_time": "2020-01-09T14:20:13.465274Z",
     "start_time": "2020-01-09T14:19:54.719780Z"
    }
   },
   "source": [
    "This notebook focuses on predicting injury in the National Football League.  The data used comes from a competion hosted by Kaggle (https://www.kaggle.com/c/nfl-playing-surface-analytics/overview).  The competition asked to investigate the relationship between the playing surface and the injury and performance of NFL athletes.  Instead, I wanted to investigate if there is a difference between a play where a player is injured as opposed to a play where a player is not, and if there is can we predict if a player will be injured.  The datasets located and are described at the following link https://www.kaggle.com/c/nfl-playing-surface-analytics/data.  First, I cleaned and visualzed the data. Next, I performed feature selection and extraction.  Third, I looked at relationships between the features and finally used those features in training a model to predict injury. "
   ]
  },
  {
   "cell_type": "code",
   "execution_count": 2,
   "metadata": {
    "ExecuteTime": {
     "end_time": "2020-08-20T15:29:23.255950Z",
     "start_time": "2020-08-20T15:29:23.224070Z"
    }
   },
   "outputs": [
    {
     "data": {
      "text/html": [
       "<style>.container { width:100% !important; }</style>"
      ],
      "text/plain": [
       "<IPython.core.display.HTML object>"
      ]
     },
     "metadata": {},
     "output_type": "display_data"
    }
   ],
   "source": [
    "# import packages\n",
    "import numpy as np\n",
    "import pandas as pd\n",
    "import matplotlib.pyplot as plt\n",
    "%matplotlib inline\n",
    "import seaborn as sns\n",
    "\n",
    "# see more columns and rows\n",
    "pd.set_option('display.max_columns', 500)\n",
    "pd.set_option('display.max_rows', 500)\n",
    "pd.set_option('display.width', 1000)\n",
    "\n",
    "from IPython.core.display import display, HTML\n",
    "display(HTML(\"<style>.container { width:100% !important; }</style>\"))"
   ]
  },
  {
   "cell_type": "markdown",
   "metadata": {
    "ExecuteTime": {
     "end_time": "2020-01-14T18:21:11.583708Z",
     "start_time": "2020-01-14T18:21:10.906116Z"
    }
   },
   "source": [
    "Read in the data."
   ]
  },
  {
   "cell_type": "code",
   "execution_count": 3,
   "metadata": {
    "ExecuteTime": {
     "end_time": "2020-08-20T15:29:27.458479Z",
     "start_time": "2020-08-20T15:29:26.822398Z"
    }
   },
   "outputs": [],
   "source": [
    "InjuryRecord = pd.read_csv('InjuryRecord.csv')\n",
    "PlayList = pd.read_csv('PlayList.csv')"
   ]
  },
  {
   "cell_type": "markdown",
   "metadata": {},
   "source": [
    "Explore the Playlist dataset."
   ]
  },
  {
   "cell_type": "code",
   "execution_count": 4,
   "metadata": {
    "ExecuteTime": {
     "end_time": "2020-08-20T15:29:31.609560Z",
     "start_time": "2020-08-20T15:29:31.571687Z"
    }
   },
   "outputs": [
    {
     "data": {
      "text/html": [
       "<div>\n",
       "<style scoped>\n",
       "    .dataframe tbody tr th:only-of-type {\n",
       "        vertical-align: middle;\n",
       "    }\n",
       "\n",
       "    .dataframe tbody tr th {\n",
       "        vertical-align: top;\n",
       "    }\n",
       "\n",
       "    .dataframe thead th {\n",
       "        text-align: right;\n",
       "    }\n",
       "</style>\n",
       "<table border=\"1\" class=\"dataframe\">\n",
       "  <thead>\n",
       "    <tr style=\"text-align: right;\">\n",
       "      <th></th>\n",
       "      <th>PlayerKey</th>\n",
       "      <th>GameID</th>\n",
       "      <th>PlayKey</th>\n",
       "      <th>RosterPosition</th>\n",
       "      <th>PlayerDay</th>\n",
       "      <th>PlayerGame</th>\n",
       "      <th>StadiumType</th>\n",
       "      <th>FieldType</th>\n",
       "      <th>Temperature</th>\n",
       "      <th>Weather</th>\n",
       "      <th>PlayType</th>\n",
       "      <th>PlayerGamePlay</th>\n",
       "      <th>Position</th>\n",
       "      <th>PositionGroup</th>\n",
       "    </tr>\n",
       "  </thead>\n",
       "  <tbody>\n",
       "    <tr>\n",
       "      <th>0</th>\n",
       "      <td>26624</td>\n",
       "      <td>26624-1</td>\n",
       "      <td>26624-1-1</td>\n",
       "      <td>Quarterback</td>\n",
       "      <td>1</td>\n",
       "      <td>1</td>\n",
       "      <td>Outdoor</td>\n",
       "      <td>Synthetic</td>\n",
       "      <td>63</td>\n",
       "      <td>Clear and warm</td>\n",
       "      <td>Pass</td>\n",
       "      <td>1</td>\n",
       "      <td>QB</td>\n",
       "      <td>QB</td>\n",
       "    </tr>\n",
       "    <tr>\n",
       "      <th>1</th>\n",
       "      <td>26624</td>\n",
       "      <td>26624-1</td>\n",
       "      <td>26624-1-2</td>\n",
       "      <td>Quarterback</td>\n",
       "      <td>1</td>\n",
       "      <td>1</td>\n",
       "      <td>Outdoor</td>\n",
       "      <td>Synthetic</td>\n",
       "      <td>63</td>\n",
       "      <td>Clear and warm</td>\n",
       "      <td>Pass</td>\n",
       "      <td>2</td>\n",
       "      <td>QB</td>\n",
       "      <td>QB</td>\n",
       "    </tr>\n",
       "    <tr>\n",
       "      <th>2</th>\n",
       "      <td>26624</td>\n",
       "      <td>26624-1</td>\n",
       "      <td>26624-1-3</td>\n",
       "      <td>Quarterback</td>\n",
       "      <td>1</td>\n",
       "      <td>1</td>\n",
       "      <td>Outdoor</td>\n",
       "      <td>Synthetic</td>\n",
       "      <td>63</td>\n",
       "      <td>Clear and warm</td>\n",
       "      <td>Rush</td>\n",
       "      <td>3</td>\n",
       "      <td>QB</td>\n",
       "      <td>QB</td>\n",
       "    </tr>\n",
       "    <tr>\n",
       "      <th>3</th>\n",
       "      <td>26624</td>\n",
       "      <td>26624-1</td>\n",
       "      <td>26624-1-4</td>\n",
       "      <td>Quarterback</td>\n",
       "      <td>1</td>\n",
       "      <td>1</td>\n",
       "      <td>Outdoor</td>\n",
       "      <td>Synthetic</td>\n",
       "      <td>63</td>\n",
       "      <td>Clear and warm</td>\n",
       "      <td>Rush</td>\n",
       "      <td>4</td>\n",
       "      <td>QB</td>\n",
       "      <td>QB</td>\n",
       "    </tr>\n",
       "    <tr>\n",
       "      <th>4</th>\n",
       "      <td>26624</td>\n",
       "      <td>26624-1</td>\n",
       "      <td>26624-1-5</td>\n",
       "      <td>Quarterback</td>\n",
       "      <td>1</td>\n",
       "      <td>1</td>\n",
       "      <td>Outdoor</td>\n",
       "      <td>Synthetic</td>\n",
       "      <td>63</td>\n",
       "      <td>Clear and warm</td>\n",
       "      <td>Pass</td>\n",
       "      <td>5</td>\n",
       "      <td>QB</td>\n",
       "      <td>QB</td>\n",
       "    </tr>\n",
       "  </tbody>\n",
       "</table>\n",
       "</div>"
      ],
      "text/plain": [
       "   PlayerKey   GameID    PlayKey RosterPosition  PlayerDay  PlayerGame StadiumType  FieldType  Temperature         Weather PlayType  PlayerGamePlay Position PositionGroup\n",
       "0      26624  26624-1  26624-1-1    Quarterback          1           1     Outdoor  Synthetic           63  Clear and warm     Pass               1       QB            QB\n",
       "1      26624  26624-1  26624-1-2    Quarterback          1           1     Outdoor  Synthetic           63  Clear and warm     Pass               2       QB            QB\n",
       "2      26624  26624-1  26624-1-3    Quarterback          1           1     Outdoor  Synthetic           63  Clear and warm     Rush               3       QB            QB\n",
       "3      26624  26624-1  26624-1-4    Quarterback          1           1     Outdoor  Synthetic           63  Clear and warm     Rush               4       QB            QB\n",
       "4      26624  26624-1  26624-1-5    Quarterback          1           1     Outdoor  Synthetic           63  Clear and warm     Pass               5       QB            QB"
      ]
     },
     "execution_count": 4,
     "metadata": {},
     "output_type": "execute_result"
    }
   ],
   "source": [
    "PlayList.head()"
   ]
  },
  {
   "cell_type": "code",
   "execution_count": 5,
   "metadata": {
    "ExecuteTime": {
     "end_time": "2020-08-20T15:29:32.858920Z",
     "start_time": "2020-08-20T15:29:32.824042Z"
    }
   },
   "outputs": [
    {
     "name": "stdout",
     "output_type": "stream",
     "text": [
      "['Clear and warm' 'Mostly Cloudy' 'Sunny' 'Clear' 'Cloudy'\n",
      " 'Cloudy, fog started developing in 2nd quarter' 'Rain' 'Partly Cloudy'\n",
      " 'Mostly cloudy' 'Cloudy and cold' 'Cloudy and Cool' 'Rain Chance 40%'\n",
      " 'Controlled Climate' 'Sunny and warm' 'Partly cloudy' 'Clear and Cool'\n",
      " 'Clear and cold' 'Sunny and cold' 'Indoor' nan 'Partly Sunny'\n",
      " 'N/A (Indoors)' 'Mostly Sunny' 'Indoors' 'Clear Skies' 'Partly sunny'\n",
      " 'Showers' 'N/A Indoor' 'Sunny and clear' 'Snow' 'Scattered Showers'\n",
      " 'Party Cloudy' 'Clear skies' 'Rain likely, temps in low 40s.' 'Hazy'\n",
      " 'Partly Clouidy' 'Sunny Skies' 'Overcast' 'Cloudy, 50% change of rain'\n",
      " 'Fair' 'Light Rain' 'Partly clear' 'Mostly Coudy' '10% Chance of Rain'\n",
      " 'Cloudy, chance of rain' 'Heat Index 95' 'Sunny, highs to upper 80s'\n",
      " 'Sun & clouds' 'Heavy lake effect snow' 'Mostly sunny' 'Cloudy, Rain'\n",
      " 'Sunny, Windy' 'Mostly Sunny Skies' 'Rainy' '30% Chance of Rain'\n",
      " 'Cloudy, light snow accumulating 1-3\"' 'cloudy' 'Clear and Sunny' 'Coudy'\n",
      " 'Clear and sunny' 'Clear to Partly Cloudy'\n",
      " 'Cloudy with periods of rain, thunder possible. Winds shifting to WNW, 10-20 mph.'\n",
      " 'Rain shower' 'Cold']\n"
     ]
    }
   ],
   "source": [
    "print(PlayList['Weather'].unique())"
   ]
  },
  {
   "cell_type": "code",
   "execution_count": 6,
   "metadata": {
    "ExecuteTime": {
     "end_time": "2020-08-20T15:29:33.741348Z",
     "start_time": "2020-08-20T15:29:33.706471Z"
    }
   },
   "outputs": [
    {
     "name": "stdout",
     "output_type": "stream",
     "text": [
      "['Outdoor' 'Indoors' 'Oudoor' 'Outdoors' 'Open' 'Closed Dome'\n",
      " 'Domed, closed' nan 'Dome' 'Indoor' 'Domed' 'Retr. Roof-Closed'\n",
      " 'Outdoor Retr Roof-Open' 'Retractable Roof' 'Ourdoor'\n",
      " 'Indoor, Roof Closed' 'Retr. Roof - Closed' 'Bowl' 'Outddors'\n",
      " 'Retr. Roof-Open' 'Dome, closed' 'Indoor, Open Roof' 'Domed, Open'\n",
      " 'Domed, open' 'Heinz Field' 'Cloudy' 'Retr. Roof - Open'\n",
      " 'Retr. Roof Closed' 'Outdor' 'Outside']\n"
     ]
    }
   ],
   "source": [
    "print(PlayList['StadiumType'].unique())"
   ]
  },
  {
   "cell_type": "markdown",
   "metadata": {},
   "source": [
    "There are many different values associated with weather and stadium type.  To make these columns more readable, a mapping will be applied to both.  There will be five categories for weather: Clear, Cloudy, Rain, and Snow, and two categories for StadiumType: Indoors and Outdoors."
   ]
  },
  {
   "cell_type": "code",
   "execution_count": 7,
   "metadata": {
    "ExecuteTime": {
     "end_time": "2020-08-20T15:29:35.738655Z",
     "start_time": "2020-08-20T15:29:35.671833Z"
    }
   },
   "outputs": [],
   "source": [
    "weather_info={'Clear and warm':'Clear',\n",
    "         'Mostly Cloudy':'Cloudy',\n",
    "         'Sunny':'Clear',\n",
    "         'Clear':'Clear',\n",
    "         'Cloudy':'Cloudy',\n",
    "         'Cloudy, fog started developing in 2nd quarter':'Cloudy',\n",
    "         'Rain':'Rain',\n",
    "         'Partly Cloudy':'Cloudy',\n",
    "         'Mostly cloudy':'Cloudy',\n",
    "         'Cloudy and cold':'Cloudy',\n",
    "         'Cloudy and Cool':'Cloudy',\n",
    "         'Rain Chance 40%':'Rain',\n",
    "         'Controlled Climate':'Clear',\n",
    "         'Sunny and warm':'Clear',\n",
    "         'Partly cloudy':'Cloudy', \n",
    "         'Clear and Cool':'Clear',\n",
    "         'Clear and cold':'Clear',\n",
    "         'Sunny and cold':'Clear',\n",
    "         'Indoor':'Clear',\n",
    "         'Partly Sunny':'Clear',\n",
    "         'N/A (Indoors)':'Clear',\n",
    "         'Mostly Sunny':'Clear',\n",
    "         'Indoors':'Clear',\n",
    "         'Clear Skies':'Clear',\n",
    "         'Partly sunny':'Clear',\n",
    "         'Showers':'Rain', \n",
    "         'N/A Indoor':'Clear',\n",
    "         'Sunny and clear':'Clear',\n",
    "         'Snow':'Snow',\n",
    "         'Scattered Showers':'Rain',\n",
    "         'Party Cloudy':'Cloudy',\n",
    "         'Clear skies':'Clear',\n",
    "         'Rain likely, temps in low 40s.':'Rain',\n",
    "         'Hazy':'Cloudy', \n",
    "         'Partly Clouidy':'Cloudy',\n",
    "         'Sunny Skies':'Clear',\n",
    "         'Overcast':'Cloudy',\n",
    "         'Cloudy, 50% change of rain':'Rain',\n",
    "         'Fair':'Clear',\n",
    "         'Light Rain':'Rain',\n",
    "         'Partly clear':'Clear',\n",
    "         'Mostly Coudy':'Cloudy',\n",
    "         '10% Chance of Rain':'Rain',\n",
    "         'Cloudy, chance of rain':'Cloudy',\n",
    "         'Heat Index 95':'Clear',\n",
    "         'Sunny, highs to upper 80s':'Clear',\n",
    "         'Sun & clouds':'Cloudy',\n",
    "         'Heavy lake effect snow':'Snow',\n",
    "         'Mostly sunny':'Clear',\n",
    "         'Cloudy, Rain':'Rain',\n",
    "         'Sunny, Windy':'Clear',\n",
    "         'Mostly Sunny Skies':'Clear',\n",
    "         'Rainy':'Rain',\n",
    "         '30% Chance of Rain':'Rain',\n",
    "         'Cloudy, light snow accumulating 1-3\"':'Snow',\n",
    "         'cloudy':'Cloudy',\n",
    "         'Clear and Sunny':'Clear',\n",
    "         'Coudy':'Cloudy', \n",
    "         'Clear and sunny':'Clear',\n",
    "         'Clear to Partly Cloudy':'Cloudy',\n",
    "         'Cloudy with periods of rain, thunder possible. Winds shifting to WNW, 10-20 mph.':'Rain',\n",
    "         'Rain shower':'Rain',\n",
    "         'Cold':'Clear'}\n",
    "# map function\n",
    "PlayList['Weather_category']=PlayList['Weather'].map(weather_info)"
   ]
  },
  {
   "cell_type": "code",
   "execution_count": 8,
   "metadata": {
    "ExecuteTime": {
     "end_time": "2020-08-20T15:29:37.264725Z",
     "start_time": "2020-08-20T15:29:37.191889Z"
    }
   },
   "outputs": [],
   "source": [
    "Stadium_info={'Outdoor':'Outdoors',\n",
    "              'Indoors':'Indoors',\n",
    "              'Oudoor':'Outdoors',\n",
    "              'Outdoors':'Outdoors',\n",
    "              'Open':'Outdoors',\n",
    "              'Closed Dome':'Indoors',\n",
    "              'Domed, closed':'Indoors',\n",
    "              'Dome':'Indoors',\n",
    "              'Indoor':'Indoors',\n",
    "              'Domed':'Indoors',\n",
    "              'Retr. Roof-Closed':'Indoors',\n",
    "              'Outdoor Retr Roof-Open':'Indoors',\n",
    "              'Retractable Roof':'Indoors',\n",
    "              'Ourdoor':'Outdoors',\n",
    "              'Roof Closed':'Indoors',\n",
    "              'Retr. Roof - Closed':'Indoors',\n",
    "              'Bowl':'Outdoors',\n",
    "              'Outddors':'Outdoors',\n",
    "              'Retr. Roof-Open':'Indoors',\n",
    "              'Dome, closed':'Indoors',\n",
    "              'Indoor, Open Roof':'Indoors',\n",
    "              'Domed, Open':'Indoors',\n",
    "              'Domed, open':'Indoors',\n",
    "              'Heinz Field':'Outdoors',\n",
    "              'Cloudy':'Outdoors',\n",
    "              'Retr. Roof - Open':'Indoors',\n",
    "              'Retr. Roof Closed':'Indoors',\n",
    "              'Outdor':'Outdoors',\n",
    "              'Outside':'Outdoors'}\n",
    "# map function\n",
    "PlayList['Stadium']=PlayList['StadiumType'].map(Stadium_info)"
   ]
  },
  {
   "cell_type": "markdown",
   "metadata": {},
   "source": [
    "Certain assumptions are made to fill te remaining missings  stadium and weather values.  If weather is NaN and the stadium is Indoors, then weather category will be clear.  If Stadium is NaN and the weather is ,bad (rain or snow), then Stadium category will be Outdoors.  It is a coin flip in this assumption really. Observation shows that some temperatre values are -999. The assumption made is if temperature is <0, the stadium is indoors and the temperature is  set to 68 degrees."
   ]
  },
  {
   "cell_type": "code",
   "execution_count": 9,
   "metadata": {
    "ExecuteTime": {
     "end_time": "2020-08-20T15:29:40.492920Z",
     "start_time": "2020-08-20T15:29:40.232620Z"
    }
   },
   "outputs": [],
   "source": [
    "mask = (PlayList['Stadium'] == 'Indoors') & (PlayList['Weather'].isna())\n",
    "PlayList.loc[mask,'Weather_category']='Clear'\n",
    "\n",
    "mask = (PlayList['Weather_category']=='Rain') & (PlayList['Stadium'].isna())\n",
    "PlayList.loc[mask,'Stadium']='Outdoors'\n",
    "\n",
    "mask = (PlayList['Weather_category']=='Snow') & (PlayList['Stadium'].isna())\n",
    "PlayList.loc[mask,'Stadium']='Outdoors'\n",
    "\n",
    "mask = (PlayList['Temperature']<0)\n",
    "PlayList.loc[mask,'Temperature']=68\n",
    "PlayList.loc[mask,'Stadium']='Indoors'\n",
    "\n",
    "PlayList = PlayList.drop(['Weather','StadiumType'], axis=1)\n",
    "# PlayList.to_csv('PlayList_mod.csv', index=False)"
   ]
  },
  {
   "cell_type": "code",
   "execution_count": 10,
   "metadata": {
    "ExecuteTime": {
     "end_time": "2020-08-20T15:29:41.382810Z",
     "start_time": "2020-08-20T15:29:41.236820Z"
    }
   },
   "outputs": [
    {
     "data": {
      "text/plain": [
       "(19184, 14)"
      ]
     },
     "execution_count": 10,
     "metadata": {},
     "output_type": "execute_result"
    }
   ],
   "source": [
    "PlayList.loc[PlayList.isna().any(axis=1)].shape"
   ]
  },
  {
   "cell_type": "markdown",
   "metadata": {},
   "source": [
    "After cleaning there are still ~20000 missing values.  These will be evalulated later."
   ]
  },
  {
   "cell_type": "markdown",
   "metadata": {},
   "source": [
    "Now I explore InjuryRecord dataset.  By looking for missing values, we see that the PlayKey information is mssing for many entries."
   ]
  },
  {
   "cell_type": "code",
   "execution_count": 11,
   "metadata": {
    "ExecuteTime": {
     "end_time": "2020-08-20T15:29:44.362281Z",
     "start_time": "2020-08-20T15:29:44.326380Z"
    }
   },
   "outputs": [
    {
     "name": "stdout",
     "output_type": "stream",
     "text": [
      "(28, 9)\n"
     ]
    },
    {
     "data": {
      "text/html": [
       "<div>\n",
       "<style scoped>\n",
       "    .dataframe tbody tr th:only-of-type {\n",
       "        vertical-align: middle;\n",
       "    }\n",
       "\n",
       "    .dataframe tbody tr th {\n",
       "        vertical-align: top;\n",
       "    }\n",
       "\n",
       "    .dataframe thead th {\n",
       "        text-align: right;\n",
       "    }\n",
       "</style>\n",
       "<table border=\"1\" class=\"dataframe\">\n",
       "  <thead>\n",
       "    <tr style=\"text-align: right;\">\n",
       "      <th></th>\n",
       "      <th>PlayerKey</th>\n",
       "      <th>GameID</th>\n",
       "      <th>PlayKey</th>\n",
       "      <th>BodyPart</th>\n",
       "      <th>Surface</th>\n",
       "      <th>DM_M1</th>\n",
       "      <th>DM_M7</th>\n",
       "      <th>DM_M28</th>\n",
       "      <th>DM_M42</th>\n",
       "    </tr>\n",
       "  </thead>\n",
       "  <tbody>\n",
       "    <tr>\n",
       "      <th>46</th>\n",
       "      <td>33337</td>\n",
       "      <td>33337-2</td>\n",
       "      <td>NaN</td>\n",
       "      <td>Foot</td>\n",
       "      <td>Natural</td>\n",
       "      <td>1</td>\n",
       "      <td>1</td>\n",
       "      <td>1</td>\n",
       "      <td>1</td>\n",
       "    </tr>\n",
       "    <tr>\n",
       "      <th>47</th>\n",
       "      <td>45099</td>\n",
       "      <td>45099-5</td>\n",
       "      <td>NaN</td>\n",
       "      <td>Knee</td>\n",
       "      <td>Natural</td>\n",
       "      <td>1</td>\n",
       "      <td>1</td>\n",
       "      <td>1</td>\n",
       "      <td>1</td>\n",
       "    </tr>\n",
       "    <tr>\n",
       "      <th>48</th>\n",
       "      <td>36591</td>\n",
       "      <td>36591-9</td>\n",
       "      <td>NaN</td>\n",
       "      <td>Knee</td>\n",
       "      <td>Natural</td>\n",
       "      <td>1</td>\n",
       "      <td>1</td>\n",
       "      <td>1</td>\n",
       "      <td>1</td>\n",
       "    </tr>\n",
       "    <tr>\n",
       "      <th>49</th>\n",
       "      <td>45950</td>\n",
       "      <td>45950-6</td>\n",
       "      <td>NaN</td>\n",
       "      <td>Toes</td>\n",
       "      <td>Synthetic</td>\n",
       "      <td>1</td>\n",
       "      <td>1</td>\n",
       "      <td>0</td>\n",
       "      <td>0</td>\n",
       "    </tr>\n",
       "    <tr>\n",
       "      <th>50</th>\n",
       "      <td>39653</td>\n",
       "      <td>39653-4</td>\n",
       "      <td>NaN</td>\n",
       "      <td>Ankle</td>\n",
       "      <td>Synthetic</td>\n",
       "      <td>1</td>\n",
       "      <td>0</td>\n",
       "      <td>0</td>\n",
       "      <td>0</td>\n",
       "    </tr>\n",
       "  </tbody>\n",
       "</table>\n",
       "</div>"
      ],
      "text/plain": [
       "    PlayerKey   GameID PlayKey BodyPart    Surface  DM_M1  DM_M7  DM_M28  DM_M42\n",
       "46      33337  33337-2     NaN     Foot    Natural      1      1       1       1\n",
       "47      45099  45099-5     NaN     Knee    Natural      1      1       1       1\n",
       "48      36591  36591-9     NaN     Knee    Natural      1      1       1       1\n",
       "49      45950  45950-6     NaN     Toes  Synthetic      1      1       0       0\n",
       "50      39653  39653-4     NaN    Ankle  Synthetic      1      0       0       0"
      ]
     },
     "execution_count": 11,
     "metadata": {},
     "output_type": "execute_result"
    }
   ],
   "source": [
    "print(InjuryRecord[InjuryRecord.isna().any(axis=1)].shape)\n",
    "InjuryRecord[InjuryRecord.isna().any(axis=1)].head()"
   ]
  },
  {
   "cell_type": "markdown",
   "metadata": {
    "ExecuteTime": {
     "end_time": "2020-01-09T14:51:23.587356Z",
     "start_time": "2020-01-09T14:51:22.299971Z"
    }
   },
   "source": [
    "These NaNs will be filled by comparing GameIDs with the Playlist dataset."
   ]
  },
  {
   "cell_type": "code",
   "execution_count": 12,
   "metadata": {
    "ExecuteTime": {
     "end_time": "2020-08-20T15:29:46.666149Z",
     "start_time": "2020-08-20T15:29:46.012498Z"
    }
   },
   "outputs": [],
   "source": [
    "# get index of missing values in InjuryRecord\n",
    "idx_missng=InjuryRecord[InjuryRecord.isna().any(axis=1)].index\n",
    "import warnings\n",
    "warnings.filterwarnings('ignore')\n",
    "for i in idx_missng:\n",
    "    last_play=PlayList[PlayList['GameID']==InjuryRecord['GameID'].iloc[i]]['PlayKey'].iloc[-1]\n",
    "    InjuryRecord['PlayKey'].iloc[i]=last_play    "
   ]
  },
  {
   "cell_type": "markdown",
   "metadata": {
    "ExecuteTime": {
     "end_time": "2020-01-15T17:55:26.725000Z",
     "start_time": "2020-01-15T17:55:26.713452Z"
    }
   },
   "source": [
    "Days injured was assessed to see what were the lengths of injuries."
   ]
  },
  {
   "cell_type": "code",
   "execution_count": 13,
   "metadata": {
    "ExecuteTime": {
     "end_time": "2020-08-20T15:29:49.149435Z",
     "start_time": "2020-08-20T15:29:49.118518Z"
    }
   },
   "outputs": [],
   "source": [
    "days_injured = ['DM_M1','DM_M7','DM_M28','DM_M42']\n",
    "InjuryRecord['DM_Tally_sum']=InjuryRecord[days_injured].sum(axis=1)\n",
    "DM_length = {1:'1-7',2:'8-28',3:'29-42',4:'>42'}\n",
    "InjuryRecord['DM']=InjuryRecord['DM_Tally_sum'].map(DM_length)"
   ]
  },
  {
   "cell_type": "markdown",
   "metadata": {},
   "source": [
    "The InjuryRecord dataset will be merged with the Playlist dataset.  Merging is based on the InjuryRecord PlayKey."
   ]
  },
  {
   "cell_type": "code",
   "execution_count": 14,
   "metadata": {
    "ExecuteTime": {
     "end_time": "2020-08-20T15:29:52.126222Z",
     "start_time": "2020-08-20T15:29:51.873836Z"
    },
    "scrolled": true
   },
   "outputs": [],
   "source": [
    "ir_pl=pd.merge(InjuryRecord,PlayList,on='PlayKey',suffixes=['_Inj','_PL'],how='left')\n",
    "\n",
    "ir_pl=ir_pl.drop(['PlayerKey_PL','GameID_PL'],axis=1)\n",
    "ir_pl.rename(columns={'PlayerKey_Inj':'PlayerKey','GameID_Inj':'Game_ID'}, inplace=True)\n",
    "\n",
    "ir_pl=ir_pl.reset_index(drop=True)\n",
    "mask = (ir_pl['PlayKey']=='47285-4-16')# specific event that needed to be addressed\n",
    "ir_pl.loc[mask,'Stadium'] = 'Outdoors'\n",
    "ir_pl.loc[mask,'Weather_category'] = 'Clear'\n",
    "\n",
    "idx_missng=ir_pl[ir_pl.isna().any(axis=1)].index # cleaning up final loose ends\n",
    "ir_pl.loc[idx_missng,'Weather_category']='Cloudy'\n",
    "ir_pl.loc[idx_missng,'Stadium']='Indoors'\n",
    "\n",
    "# ir_pl.to_csv('ir_pl.csv', index=False)\n"
   ]
  },
  {
   "cell_type": "markdown",
   "metadata": {},
   "source": [
    "There is now a dataset that holds more detail on the injured players than what was provided."
   ]
  },
  {
   "cell_type": "markdown",
   "metadata": {},
   "source": [
    "# Data Visualizations"
   ]
  },
  {
   "cell_type": "markdown",
   "metadata": {},
   "source": [
    "An overview of the injuries recorded can be seen."
   ]
  },
  {
   "cell_type": "code",
   "execution_count": 15,
   "metadata": {
    "ExecuteTime": {
     "end_time": "2020-08-20T15:29:56.409371Z",
     "start_time": "2020-08-20T15:29:55.133484Z"
    }
   },
   "outputs": [
    {
     "data": {
      "image/png": "[encoded data removed]",
      "text/plain": [
       "<Figure size 1440x576 with 3 Axes>"
      ]
     },
     "metadata": {},
     "output_type": "display_data"
    }
   ],
   "source": [
    "sns.set(style=\"white\") \n",
    "fontlabelsize=16\n",
    "fontbold='bold'\n",
    "fontticksize=14\n",
    "from matplotlib import gridspec\n",
    "fig = plt.figure(figsize=(20,8))\n",
    "\n",
    "sup_title=fig.suptitle('Overview of Injuries for Two Regular Seasons',fontsize=20, fontweight='bold')\n",
    "gs = gridspec.GridSpec(1, 3, width_ratios=[2,2,3]) \n",
    "\n",
    "\n",
    "ax1= plt.subplot(gs[0])\n",
    "sns.countplot(x='BodyPart', hue='Surface', orient='h',data=ir_pl, palette='Set1')\n",
    "ax1.set_xlabel('Injured Body Part',fontsize=fontlabelsize,fontweight=fontbold)\n",
    "ax1.set_ylabel('Count',fontsize=fontlabelsize,fontweight=fontbold)\n",
    "ax1.grid(b=True,which='major', linewidth=.8)\n",
    "ax1.grid(b=True,which='minor', linewidth=.3)\n",
    "ax1.set_axisbelow(True)\n",
    "ax1.legend_.remove()\n",
    "\n",
    "for tick in ax1.xaxis.get_ticklabels():\n",
    "    tick.set(rotation=0)\n",
    "    tick.set_fontsize(fontticksize)\n",
    "    tick.set_fontweight('bold')\n",
    "for tick in ax1.yaxis.get_ticklabels():\n",
    "    tick.set_fontsize(fontticksize)\n",
    "    tick.set_fontweight('bold')\n",
    "                     \n",
    "for p in ax1.patches:\n",
    "    ax1.annotate('{:1.0f}'.format(p.get_height()), (p.get_x()+0.15, p.get_height()+.25),fontweight='bold')        \n",
    "\n",
    "ax2= plt.subplot(gs[1])\n",
    "sns.countplot(x='DM',order=['1-7','8-28','29-42','>42'], orient='h', hue='Surface',data=ir_pl, palette='Set1')\n",
    "ax2.set_xlabel('Days Missed due to Injury', fontsize=fontlabelsize,fontweight=fontbold)\n",
    "ax2.set_ylabel('Count',fontsize=fontlabelsize,fontweight=fontbold)\n",
    "ax2.grid(b=True,which='major', linewidth=.8)\n",
    "ax2.grid(b=True,which='minor', linewidth=.3)\n",
    "ax2.set_axisbelow(True)\n",
    "ax2.legend_.remove()\n",
    "\n",
    "for tick in ax2.xaxis.get_ticklabels():\n",
    "    tick.set(rotation=0)\n",
    "    tick.set_fontsize(fontticksize)\n",
    "    tick.set_fontweight('bold')\n",
    "for tick in ax2.yaxis.get_ticklabels():\n",
    "    tick.set_fontsize(fontticksize)\n",
    "    tick.set_fontweight('bold')\n",
    "\n",
    "for p in ax2.patches:\n",
    "    ax2.annotate('{:1.0f}'.format(p.get_height()), (p.get_x()+0.15, p.get_height()+.25),fontweight='bold')\n",
    "\n",
    "\n",
    "ax3= plt.subplot(gs[2])\n",
    "sns.countplot(x='Position', hue='Surface', orient='h',data=ir_pl, palette='Set1')\n",
    "ax3.set_xlabel('Injuries per Position',fontsize=fontlabelsize,fontweight=fontbold)\n",
    "ax3.set_ylabel('Count',fontsize=fontlabelsize,fontweight=fontbold)\n",
    "ax3.grid(b=True,which='major', linewidth=.8)\n",
    "ax3.grid(b=True,which='minor', linewidth=.3)\n",
    "ax3.set_axisbelow(True)\n",
    "ax3.legend_.remove()\n",
    "\n",
    "for tick in ax3.xaxis.get_ticklabels():\n",
    "    tick.set(rotation=-30)\n",
    "    tick.set_fontsize(fontticksize)\n",
    "    tick.set_fontweight('bold')\n",
    "for tick in ax3.yaxis.get_ticklabels():\n",
    "    tick.set_fontsize(fontticksize)\n",
    "    tick.set_fontweight('bold')\n",
    "                     \n",
    "for p in ax3.patches:\n",
    "    ax3.annotate('{:1.0f}'.format(p.get_height()), (p.get_x()+0.1, p.get_height()+.25),fontweight='bold')        \n",
    "\n",
    "legend_properties = {'weight':'bold'}\n",
    "   \n",
    "bbox = (fig.subplotpars.left+.8, fig.subplotpars.top-.35, fig.subplotpars.right-fig.subplotpars.left-.745,.1)\n",
    "ax3.legend(bbox_to_anchor=bbox, loc='lower left', ncol=1, borderaxespad=0., bbox_transform=fig.transFigure,\n",
    "           fontsize=16,frameon=False,title='Field Type',title_fontsize=18,prop=legend_properties)\n",
    "ax3.get_legend().get_title().set_fontweight('bold')\n",
    "\n",
    "# plt.savefig('days_injured.png',bbox_inches='tight')\n",
    "plt.show()"
   ]
  },
  {
   "cell_type": "markdown",
   "metadata": {},
   "source": [
    "The injuries are mostly knee and ankle.  Days missed is interesting.  It shows that either an injury clears up in 1-4 weeks or the player is injured for the whole season (>42 days~>6 weeks).  Strikingly, outside linebacks (OLB), cornerbacks (CB) and wide receivers (WR).   Another plot is created to view injuries to specific positions."
   ]
  },
  {
   "cell_type": "code",
   "execution_count": 16,
   "metadata": {
    "ExecuteTime": {
     "end_time": "2020-08-20T15:30:01.255961Z",
     "start_time": "2020-08-20T15:29:57.086350Z"
    }
   },
   "outputs": [
    {
     "data": {
      "image/png": "[encoded data removed]",
      "text/plain": [
       "<Figure size 1080x540 with 15 Axes>"
      ]
     },
     "metadata": {},
     "output_type": "display_data"
    }
   ],
   "source": [
    "# set seaborn figure aesthetics\n",
    "sns.set(style=\"white\")\n",
    "# set font tick size\n",
    "fontticksize=13\n",
    "# set dictionary for labeling x, y, and title\n",
    "font = {'color':  'black',\n",
    "        'weight': 'bold',\n",
    "        'size': 16}\n",
    "\n",
    "# use seaborn catplot function to show counts of categorical data\n",
    "\n",
    "cat_plot=sns.catplot(x='BodyPart',hue='FieldType', col='Position', data=ir_pl, palette='Set1', height=2.5, aspect=1,\n",
    "                     col_wrap=6, kind='count',sharey=True,sharex=False,legend=False, legend_out=False)\n",
    "\n",
    "\n",
    "# create list of position names that will be used for individual titles \n",
    "position_names = ir_pl['Position'].unique()\n",
    "\n",
    "# call each plot from the sns.catplot function\n",
    "for i, ax in enumerate(cat_plot.axes):\n",
    "    \n",
    "    ax.set_title(position_names[i],fontdict=font) # set title    \n",
    "    ax.set_ylim(0,9) # set y limits\n",
    "    ax.set_yticks(np.arange(0,9,1)) # set number of y ticks\n",
    "    ax.set_xlabel('') # set x label\n",
    "    \n",
    "    # call the tick labels of the x and y axes\n",
    "    for tick in ax.xaxis.get_ticklabels():\n",
    "        tick.set(rotation=-15) # set tick rotation\n",
    "        tick.set_fontsize(fontticksize) # set tick font size\n",
    "        tick.set_fontweight('bold') # set tick font weight\n",
    "    for tick in ax.yaxis.get_ticklabels():\n",
    "        tick.set_fontsize(fontticksize)\n",
    "        tick.set(rotation=0)\n",
    "        tick.set_fontweight('bold')\n",
    "    \n",
    "    # put labels on top of bar that represents the count.  Adjust x-axis and height here (follow the arrows)\n",
    "    #                                                              |                  |\n",
    "    for p in ax.patches: #                                         V                  V\n",
    "        ax.annotate('{:1.0f}'.format(p.get_height()), (p.get_x()+0.1, p.get_height()+.25),fontsize=fontticksize, fontweight='bold')\n",
    "        \n",
    "    # set the major y axis grid to specific linewidth\n",
    "    ax.grid(b=True,which='major',axis='y', linewidth=.8)\n",
    "    # bring the bars to be in front of the gridlines for better visibility\n",
    "    ax.set_axisbelow(True)\n",
    "\n",
    "    \n",
    "# changing aesthetics of the overall figure now.\n",
    "\n",
    "cat_plot.set_ylabels('Count',fontdict=font)\n",
    "# assign the overall cat_plot figure \n",
    "fig=cat_plot.fig\n",
    "# adjst space between the individual plots\n",
    "fig.subplots_adjust(bottom=0.0, hspace=0.5, wspace=0.05)\n",
    "# add a title that is centered over the figure\n",
    "sup_title= fig.suptitle('Injury by Positional Player',fontsize=20,fontweight='bold')\n",
    "# adjst the space between title and plot\n",
    "sup_title.set_y(1.06)\n",
    "\n",
    "# assign legend properties\n",
    "legend_properties = {'weight':'bold','size':14}\n",
    "# assign location of where the legend will be placed.  Change vaules to shift legend\n",
    "x_shift = 0.98\n",
    "y_shift = 0.45\n",
    "bbox = (fig.subplotpars.left+x_shift, fig.subplotpars.top-y_shift, fig.subplotpars.right-fig.subplotpars.left,.1)\n",
    "# assign legened to figureusing bbox coordinates\n",
    "ax.legend(bbox_to_anchor=bbox, loc='lower left', ncol=1, borderaxespad=0., bbox_transform=fig.transFigure,\n",
    "                   frameon=False,title='Field Type',prop=legend_properties)\n",
    "\n",
    "# set font weight and font size of the legend title\n",
    "ax.get_legend().get_title().set_fontweight('bold')\n",
    "ax.get_legend().get_title().set_fontsize(22)\n",
    "\n",
    "\n",
    "# plt.savefig('position_injury.png',bbox_inches='tight',dpi=160)\n",
    "\n",
    "plt.show()"
   ]
  },
  {
   "cell_type": "markdown",
   "metadata": {},
   "source": [
    "It is clear that a large number of CBs and WRs were injured.  Cornerbacks and wide recievers are similiar in play movement as they mosly cover each other.  There are 70 players that are labeled as CB or WR.  Of those 70, 37 were injured (>50%). This information is what drives the quesion can I predict injury to CBs and or WRs given ther NGS?  Their information PlayerKey is going to be used to collect all their NGS from the PlayTrackData dataset. The PlayTrackData is very large so I will read the data in chunks."
   ]
  },
  {
   "cell_type": "code",
   "execution_count": null,
   "metadata": {
    "ExecuteTime": {
     "end_time": "2020-08-20T15:22:47.633809Z",
     "start_time": "2020-08-20T15:15:57.733944Z"
    }
   },
   "outputs": [],
   "source": [
    "# finding CB WR NGS by parsing through PlayerTrackData.\n",
    "j=0\n",
    "tot=0\n",
    "CB_WR_plays=pd.DataFrame()\n",
    "chunks=4000000\n",
    "\n",
    "mask = (PlayList['Position']=='CB') | (PlayList['Position']=='WR')\n",
    "cb_wr_id=PlayList.loc[mask,'PlayerKey'].unique().astype('int')\n",
    "\n",
    "for batch in pd.read_csv('PlayerTrackData.csv',iterator=True, chunksize=chunks):\n",
    "    j=j+1\n",
    "    tot=tot+len(batch)\n",
    "#     print(j)\n",
    "    batch['PlayerKey']=batch['PlayKey'].apply(lambda x: x.split('-')[0]).astype('int')\n",
    "    \n",
    "    for idx, ID in enumerate(list(cb_wr_id)):\n",
    "        grab=batch.loc[batch['PlayerKey']==ID]\n",
    "        CB_WR_plays=CB_WR_plays.append(grab)\n",
    "#     if j==5:\n",
    "#         break\n",
    "\n",
    "CB_WR_plays['GameID']=CB_WR_plays['PlayKey'].apply(lambda x: x.split('-')[1]).astype('int')\n",
    "CB_WR_plays['PlayerGame']=CB_WR_plays['PlayKey'].apply(lambda x: x.split('-')[2]).astype('int')\n",
    "\n",
    "CB_WR_plays=CB_WR_plays.reset_index(drop=True)\n",
    "idx=CB_WR_plays.loc[(CB_WR_plays['PlayerKey'] == 46134) & (CB_WR_plays['GameID'] < 11)].index # this player did not play cornerback until game 11.\n",
    "CB_WR_plays=CB_WR_plays.drop(idx,axis=0)\n",
    "\n",
    "# CB_WR_plays.to_csv('CB_WR_plays.csv', index=False)"
   ]
  },
  {
   "cell_type": "code",
   "execution_count": null,
   "metadata": {
    "ExecuteTime": {
     "end_time": "2020-08-20T15:22:47.633809Z",
     "start_time": "2020-08-20T15:15:57.733944Z"
    },
    "scrolled": true
   },
   "outputs": [],
   "source": []
  },
  {
   "cell_type": "code",
   "execution_count": 17,
   "metadata": {
    "ExecuteTime": {
     "end_time": "2020-08-20T15:30:42.942345Z",
     "start_time": "2020-08-20T15:30:15.992554Z"
    }
   },
   "outputs": [],
   "source": [
    "# read in previously made datasets\n",
    "InjuryRecord = pd.read_csv('InjuryRecord.csv')\n",
    "PlayList = pd.read_csv('PlayList_mod.csv')\n",
    "CB_WR_plays=pd.read_csv('CB_WR_plays.csv')\n",
    "ir_pl=pd.read_csv('ir_pl.csv')\n",
    "# CB_WR_plays.shape"
   ]
  },
  {
   "cell_type": "markdown",
   "metadata": {},
   "source": [
    "Clearly there are many more plays where CBs and WRs are not injured than those that are.  Because of this, I will pick plays at random that the player did not suffer an injury."
   ]
  },
  {
   "cell_type": "code",
   "execution_count": 22,
   "metadata": {
    "ExecuteTime": {
     "end_time": "2020-02-01T16:54:39.483483Z",
     "start_time": "2020-02-01T16:54:39.271039Z"
    }
   },
   "outputs": [
    {
     "data": {
      "text/plain": [
       "(222, 11)"
      ]
     },
     "execution_count": 22,
     "metadata": {},
     "output_type": "execute_result"
    }
   ],
   "source": [
    "cols=['PlayerKey','Position','PlayerGame','PlayerGamePlay','PlayKey','FieldType','PlayType','Weather_category','Temperature','Stadium']\n",
    "mask = (ir_pl['Position']=='CB') | (ir_pl['Position']=='WR')\n",
    "cb_wr_injured = ir_pl[mask][cols]\n",
    "cb_wr_injured['Status'] = 'Injured'\n",
    "# print(cb_wr_injured.shape)\n",
    "\n",
    "cb_wr_inj_playkey = cb_wr_injured['PlayKey'].unique()\n",
    "mask = (PlayList['Position']=='CB') | (PlayList['Position']=='WR') & (PlayList['Stadium'].notnull()) & (PlayList['Weather_category'].notnull())\n",
    "cb_wr_all = PlayList[mask][cols]\n",
    "\n",
    "# create mask that holds index of only healthy plays\n",
    "mask = (cb_wr_all['Stadium'].notnull()) & (cb_wr_all['Weather_category'].notnull())\n",
    "cb_wr_all = cb_wr_all[mask][cols]\n",
    "non_inj_index=cb_wr_all.loc[~cb_wr_all['PlayKey'].isin(cb_wr_inj_playkey)].index\n",
    "\n",
    "cb_wr_healthy=cb_wr_all.loc[non_inj_index].sample(n=185, random_state=111) # pick 185 random plays.  Injured plays make up 1/5 of the total plays used in this analysis\n",
    "cb_wr_healthy['Status'] = 'Healthy'\n",
    "# print(cb_wr_healthy.shape)\n",
    "\n",
    "data=pd.concat([cb_wr_injured,cb_wr_healthy]).reset_index(drop=True)\n",
    "data.shape\n",
    "# 37*8"
   ]
  },
  {
   "cell_type": "markdown",
   "metadata": {
    "ExecuteTime": {
     "end_time": "2020-01-17T16:31:50.140006Z",
     "start_time": "2020-01-17T16:31:45.147636Z"
    }
   },
   "source": [
    "Below is a visualization of a specific play that was recorded using the ngs data.  Player (x,y) position on the field, speed, orientation, and direction was given.  I plottd the ngs data and added play info and event to he graph.  \n",
    "\n",
    "I myself made calculations that allowed me to plot the change in speed and direction from basline.  More of these graphs and the code to make them can be found in the repository."
   ]
  },
  {
   "cell_type": "markdown",
   "metadata": {},
   "source": [
    "<img src=\"43532-5-69_play_movements.png\">\n"
   ]
  },
  {
   "cell_type": "markdown",
   "metadata": {},
   "source": [
    "More of these plots can be found in the github repository.  Observations shows player orienation is not reliable and not well defined via the kaggle description of the data.  I wanted to investigate if the change in speed and direction played a role in injuries. Perhaps abrupt changes in these give way to injuries in players.  "
   ]
  },
  {
   "cell_type": "markdown",
   "metadata": {},
   "source": [
    "Here I perform feature selection and feature extraction to create a dataset that will be used for machine learning.  From the NGS provided, I select the max speed, total distance traveled.  I also calculate the average change in direction, the standard deviation in change in direction, the total number of changes in direction value above 2.5 stds, the max value change in direction, and the max value change in speed."
   ]
  },
  {
   "cell_type": "code",
   "execution_count": 23,
   "metadata": {
    "ExecuteTime": {
     "end_time": "2020-02-01T17:01:22.268676Z",
     "start_time": "2020-02-01T16:54:44.765734Z"
    }
   },
   "outputs": [],
   "source": [
    "data_playkey = data['PlayKey'].unique()\n",
    "gg=[]\n",
    "for pt, play in enumerate(data_playkey):\n",
    "    mask = (CB_WR_plays['PlayKey']==play)\n",
    "\n",
    "    cb_wr_play = CB_WR_plays[mask].reset_index()\n",
    "    cb_wr_play[cb_wr_play['event'].notnull()]\n",
    "    idx=cb_wr_play[cb_wr_play['event'].notnull()].index+30 # \n",
    "    mask= (cb_wr_play.index<=idx[-1]) # evaluate all  ngs up until 3 seconds after the last recorded event \n",
    "    cb_wr_play=cb_wr_play[mask]\n",
    "    \n",
    "    metrics=[]\n",
    "    for idx, step in enumerate(cb_wr_play['dir']):\n",
    "        if cb_wr_play['dir'].iloc[idx+1]<90 and cb_wr_play['dir'].iloc[idx]>250:\n",
    "            d_dir=cb_wr_play['dir'].iloc[idx+1]+(360-cb_wr_play['dir'].iloc[idx])\n",
    "\n",
    "        elif cb_wr_play['dir'].iloc[idx+1]>250 and cb_wr_play['dir'].iloc[idx]<90:\n",
    "            d_dir=-(cb_wr_play['dir'].iloc[idx]+(360-cb_wr_play['dir'].iloc[idx+1]))\n",
    "        else:\n",
    "            d_dir=cb_wr_play['dir'].iloc[idx+1]-cb_wr_play['dir'].iloc[idx]\n",
    "            \n",
    "            \n",
    "        metrics.append((cb_wr_play['time'].iloc[idx+1],\n",
    "                        cb_wr_play['event'].iloc[idx],\n",
    "                        cb_wr_play['time'].iloc[idx+1]-cb_wr_play['time'].iloc[idx],                    \n",
    "                        d_dir,\n",
    "                        cb_wr_play['dis'].iloc[idx+1]-cb_wr_play['dis'].iloc[idx],\n",
    "                        cb_wr_play['o'].iloc[idx+1]-cb_wr_play['o'].iloc[idx],\n",
    "                        cb_wr_play['s'].iloc[idx+1]-cb_wr_play['s'].iloc[idx]))\n",
    "        \n",
    "        if idx==len(cb_wr_play['dir'])-2:\n",
    "            break\n",
    "\n",
    "            \n",
    "    df=pd.DataFrame(metrics,columns=('time','event','delta_time','delta_direction','delta_distance','delta_orient','delta_speed'))\n",
    "    \n",
    "    a=cb_wr_play['s'].max() # max speed\n",
    "    b=cb_wr_play['dis'].abs().sum() # total distance traveled\n",
    "    c=df['delta_direction'].abs().mean() # average change in direction\n",
    "    d=df['delta_direction'].abs().std() # standard deviation in change in direction\n",
    "    e=df[df['delta_direction'].abs()>(2.5*d)]['delta_direction'].count() # total number of changes in direction value above 2.5 stds.\n",
    "    f=df['delta_direction'].abs().max() # max value change in direction\n",
    "    g=df['delta_speed'].abs().max() # max value change in speed\n",
    "    \n",
    "    # looking to see if max delta speed and/or max delta direction take place within one second of an event\n",
    "    h=np.array(df.loc[df['delta_speed'].abs()==g].index) \n",
    "    i=np.array(df.loc[df['delta_direction'].abs()==f].index)\n",
    "    j=np.array(df.loc[df['event'].notnull()].index)\n",
    "    delta_t_s_d=0\n",
    "    delta_t_event_d=0\n",
    "    delta_t_event_s=0\n",
    "    for pt2 in h:\n",
    "        pp2=(np.abs(pt2-i)<10).sum()\n",
    "        delta_t_s_d=delta_t_s_d+pp2\n",
    "\n",
    "    for pt3 in j:\n",
    "        pp3=(np.abs(pt3-i)<10).sum()\n",
    "        delta_t_event_d=delta_t_event_d+pp3\n",
    "\n",
    "        pp4=(np.abs(pt3-h)<10).sum()\n",
    "        delta_t_event_s=delta_t_event_s+pp4\n",
    "\n",
    "\n",
    "    gg.append((play,a,b,c,d,e,f,g,delta_t_s_d,delta_t_event_d,delta_t_event_s))#,h,i,j))\n",
    "    \n",
    "\n",
    "ngs_stats=pd.DataFrame(gg,columns=('PlayKey','max_speed','distance_traveled','avg_delta_dir','std_delta_dir',\n",
    "                                   'dir_cuts','max_delta_direction','max_delta_speed','delta_t_s_d','delta_t_event_d','delta_t_event_s'))\n"
   ]
  },
  {
   "cell_type": "code",
   "execution_count": null,
   "metadata": {
    "ExecuteTime": {
     "start_time": "2020-01-31T18:55:18.427Z"
    }
   },
   "outputs": [],
   "source": [
    "ngs_stats.head()"
   ]
  },
  {
   "cell_type": "code",
   "execution_count": 24,
   "metadata": {
    "ExecuteTime": {
     "end_time": "2020-02-01T17:01:57.025611Z",
     "start_time": "2020-02-01T17:01:56.959783Z"
    }
   },
   "outputs": [
    {
     "data": {
      "text/html": [
       "<div>\n",
       "<style scoped>\n",
       "    .dataframe tbody tr th:only-of-type {\n",
       "        vertical-align: middle;\n",
       "    }\n",
       "\n",
       "    .dataframe tbody tr th {\n",
       "        vertical-align: top;\n",
       "    }\n",
       "\n",
       "    .dataframe thead th {\n",
       "        text-align: right;\n",
       "    }\n",
       "</style>\n",
       "<table border=\"1\" class=\"dataframe\">\n",
       "  <thead>\n",
       "    <tr style=\"text-align: right;\">\n",
       "      <th></th>\n",
       "      <th>PlayerGame</th>\n",
       "      <th>PlayerGamePlay</th>\n",
       "      <th>FieldType</th>\n",
       "      <th>PlayType</th>\n",
       "      <th>Weather_category</th>\n",
       "      <th>Temperature</th>\n",
       "      <th>Stadium</th>\n",
       "      <th>Status</th>\n",
       "      <th>max_speed</th>\n",
       "      <th>distance_traveled</th>\n",
       "      <th>avg_delta_dir</th>\n",
       "      <th>std_delta_dir</th>\n",
       "      <th>dir_cuts</th>\n",
       "      <th>max_delta_direction</th>\n",
       "      <th>max_delta_speed</th>\n",
       "      <th>delta_t_s_d</th>\n",
       "      <th>delta_t_event_d</th>\n",
       "      <th>delta_t_event_s</th>\n",
       "    </tr>\n",
       "  </thead>\n",
       "  <tbody>\n",
       "    <tr>\n",
       "      <th>0</th>\n",
       "      <td>5</td>\n",
       "      <td>69</td>\n",
       "      <td>Synthetic</td>\n",
       "      <td>Kickoff</td>\n",
       "      <td>Cloudy</td>\n",
       "      <td>89</td>\n",
       "      <td>Indoors</td>\n",
       "      <td>Injured</td>\n",
       "      <td>4.73</td>\n",
       "      <td>26.93</td>\n",
       "      <td>4.493593</td>\n",
       "      <td>7.024295</td>\n",
       "      <td>7</td>\n",
       "      <td>55.95</td>\n",
       "      <td>0.27</td>\n",
       "      <td>0</td>\n",
       "      <td>0</td>\n",
       "      <td>2</td>\n",
       "    </tr>\n",
       "    <tr>\n",
       "      <th>1</th>\n",
       "      <td>8</td>\n",
       "      <td>40</td>\n",
       "      <td>Synthetic</td>\n",
       "      <td>Pass</td>\n",
       "      <td>Clear</td>\n",
       "      <td>68</td>\n",
       "      <td>Outdoors</td>\n",
       "      <td>Injured</td>\n",
       "      <td>4.99</td>\n",
       "      <td>22.52</td>\n",
       "      <td>3.624797</td>\n",
       "      <td>4.428082</td>\n",
       "      <td>10</td>\n",
       "      <td>29.01</td>\n",
       "      <td>0.33</td>\n",
       "      <td>0</td>\n",
       "      <td>1</td>\n",
       "      <td>0</td>\n",
       "    </tr>\n",
       "    <tr>\n",
       "      <th>2</th>\n",
       "      <td>2</td>\n",
       "      <td>38</td>\n",
       "      <td>Synthetic</td>\n",
       "      <td>Pass</td>\n",
       "      <td>Clear</td>\n",
       "      <td>68</td>\n",
       "      <td>Indoors</td>\n",
       "      <td>Injured</td>\n",
       "      <td>6.38</td>\n",
       "      <td>32.67</td>\n",
       "      <td>3.218268</td>\n",
       "      <td>5.297176</td>\n",
       "      <td>10</td>\n",
       "      <td>32.70</td>\n",
       "      <td>0.41</td>\n",
       "      <td>0</td>\n",
       "      <td>0</td>\n",
       "      <td>0</td>\n",
       "    </tr>\n",
       "    <tr>\n",
       "      <th>3</th>\n",
       "      <td>2</td>\n",
       "      <td>13</td>\n",
       "      <td>Synthetic</td>\n",
       "      <td>Kickoff</td>\n",
       "      <td>Cloudy</td>\n",
       "      <td>68</td>\n",
       "      <td>Indoors</td>\n",
       "      <td>Injured</td>\n",
       "      <td>9.42</td>\n",
       "      <td>66.24</td>\n",
       "      <td>4.387508</td>\n",
       "      <td>14.308021</td>\n",
       "      <td>5</td>\n",
       "      <td>181.96</td>\n",
       "      <td>0.46</td>\n",
       "      <td>0</td>\n",
       "      <td>0</td>\n",
       "      <td>1</td>\n",
       "    </tr>\n",
       "    <tr>\n",
       "      <th>4</th>\n",
       "      <td>5</td>\n",
       "      <td>23</td>\n",
       "      <td>Synthetic</td>\n",
       "      <td>Kickoff</td>\n",
       "      <td>Cloudy</td>\n",
       "      <td>76</td>\n",
       "      <td>Indoors</td>\n",
       "      <td>Injured</td>\n",
       "      <td>7.75</td>\n",
       "      <td>42.20</td>\n",
       "      <td>4.318437</td>\n",
       "      <td>8.599630</td>\n",
       "      <td>3</td>\n",
       "      <td>86.82</td>\n",
       "      <td>0.36</td>\n",
       "      <td>0</td>\n",
       "      <td>0</td>\n",
       "      <td>2</td>\n",
       "    </tr>\n",
       "  </tbody>\n",
       "</table>\n",
       "</div>"
      ],
      "text/plain": [
       "   PlayerGame  PlayerGamePlay  FieldType PlayType Weather_category  Temperature   Stadium   Status  max_speed  distance_traveled  avg_delta_dir  std_delta_dir  dir_cuts  max_delta_direction  max_delta_speed  delta_t_s_d  delta_t_event_d  delta_t_event_s\n",
       "0           5              69  Synthetic  Kickoff           Cloudy           89   Indoors  Injured       4.73              26.93       4.493593       7.024295         7                55.95             0.27            0                0                2\n",
       "1           8              40  Synthetic     Pass            Clear           68  Outdoors  Injured       4.99              22.52       3.624797       4.428082        10                29.01             0.33            0                1                0\n",
       "2           2              38  Synthetic     Pass            Clear           68   Indoors  Injured       6.38              32.67       3.218268       5.297176        10                32.70             0.41            0                0                0\n",
       "3           2              13  Synthetic  Kickoff           Cloudy           68   Indoors  Injured       9.42              66.24       4.387508      14.308021         5               181.96             0.46            0                0                1\n",
       "4           5              23  Synthetic  Kickoff           Cloudy           76   Indoors  Injured       7.75              42.20       4.318437       8.599630         3                86.82             0.36            0                0                2"
      ]
     },
     "execution_count": 24,
     "metadata": {},
     "output_type": "execute_result"
    }
   ],
   "source": [
    "features=pd.merge(data,ngs_stats,on='PlayKey',how='left')\n",
    "features.head()\n",
    "features[features.isna().any(axis=1)]\n",
    "features=features.drop(['PlayerKey','Position','PlayKey'],axis=1)\n",
    "features.to_csv('features.csv',index=False)\n",
    "features.head()"
   ]
  },
  {
   "cell_type": "markdown",
   "metadata": {},
   "source": [
    "XGBOOST was selected as the algorithm to train a model to predict injury.  One hot encoding was performed on categorical data to turn it into numeric.  The data was standardized, and split into train test sets (70/30).  Validation of the model was performed and analyzed. "
   ]
  },
  {
   "cell_type": "code",
   "execution_count": 8,
   "metadata": {
    "ExecuteTime": {
     "end_time": "2020-02-13T15:46:44.638542Z",
     "start_time": "2020-02-13T15:46:44.037152Z"
    }
   },
   "outputs": [
    {
     "name": "stdout",
     "output_type": "stream",
     "text": [
      "[0]\tvalidation_0-auc:0.581293\tvalidation_0-logloss:0.649741\tvalidation_1-auc:0.492481\tvalidation_1-logloss:0.647971\n",
      "[1]\tvalidation_0-auc:0.645692\tvalidation_0-logloss:0.6174\tvalidation_1-auc:0.357143\tvalidation_1-logloss:0.620649\n",
      "[2]\tvalidation_0-auc:0.662925\tvalidation_0-logloss:0.584262\tvalidation_1-auc:0.37406\tvalidation_1-logloss:0.587547\n",
      "[3]\tvalidation_0-auc:0.762358\tvalidation_0-logloss:0.561119\tvalidation_1-auc:0.383459\tvalidation_1-logloss:0.568014\n",
      "[4]\tvalidation_0-auc:0.770522\tvalidation_0-logloss:0.540015\tvalidation_1-auc:0.417293\tvalidation_1-logloss:0.544061\n",
      "[5]\tvalidation_0-auc:0.778118\tvalidation_0-logloss:0.520528\tvalidation_1-auc:0.484962\tvalidation_1-logloss:0.526762\n",
      "[6]\tvalidation_0-auc:0.829252\tvalidation_0-logloss:0.500558\tvalidation_1-auc:0.451128\tvalidation_1-logloss:0.514685\n",
      "[7]\tvalidation_0-auc:0.848639\tvalidation_0-logloss:0.484629\tvalidation_1-auc:0.484962\tvalidation_1-logloss:0.501206\n",
      "[8]\tvalidation_0-auc:0.86678\tvalidation_0-logloss:0.466743\tvalidation_1-auc:0.43609\tvalidation_1-logloss:0.495434\n",
      "[9]\tvalidation_0-auc:0.860431\tvalidation_0-logloss:0.453506\tvalidation_1-auc:0.492481\tvalidation_1-logloss:0.481141\n",
      "[10]\tvalidation_0-auc:0.865193\tvalidation_0-logloss:0.444743\tvalidation_1-auc:0.5\tvalidation_1-logloss:0.471547\n",
      "[11]\tvalidation_0-auc:0.857596\tvalidation_0-logloss:0.432565\tvalidation_1-auc:0.481203\tvalidation_1-logloss:0.470393\n",
      "[12]\tvalidation_0-auc:0.854422\tvalidation_0-logloss:0.424359\tvalidation_1-auc:0.484962\tvalidation_1-logloss:0.464291\n",
      "[13]\tvalidation_0-auc:0.856916\tvalidation_0-logloss:0.418739\tvalidation_1-auc:0.458647\tvalidation_1-logloss:0.462305\n",
      "[14]\tvalidation_0-auc:0.859751\tvalidation_0-logloss:0.411361\tvalidation_1-auc:0.462406\tvalidation_1-logloss:0.45526\n",
      "[15]\tvalidation_0-auc:0.871995\tvalidation_0-logloss:0.405477\tvalidation_1-auc:0.522556\tvalidation_1-logloss:0.447195\n",
      "[16]\tvalidation_0-auc:0.877664\tvalidation_0-logloss:0.399406\tvalidation_1-auc:0.496241\tvalidation_1-logloss:0.448469\n",
      "[17]\tvalidation_0-auc:0.886054\tvalidation_0-logloss:0.392094\tvalidation_1-auc:0.507519\tvalidation_1-logloss:0.447231\n",
      "[18]\tvalidation_0-auc:0.884014\tvalidation_0-logloss:0.3857\tvalidation_1-auc:0.511278\tvalidation_1-logloss:0.448471\n",
      "[19]\tvalidation_0-auc:0.883787\tvalidation_0-logloss:0.381559\tvalidation_1-auc:0.5\tvalidation_1-logloss:0.445404\n",
      "[20]\tvalidation_0-auc:0.879252\tvalidation_0-logloss:0.378287\tvalidation_1-auc:0.481203\tvalidation_1-logloss:0.445858\n",
      "[21]\tvalidation_0-auc:0.881519\tvalidation_0-logloss:0.371833\tvalidation_1-auc:0.473684\tvalidation_1-logloss:0.445088\n",
      "[22]\tvalidation_0-auc:0.886848\tvalidation_0-logloss:0.365842\tvalidation_1-auc:0.443609\tvalidation_1-logloss:0.445829\n",
      "[23]\tvalidation_0-auc:0.89229\tvalidation_0-logloss:0.363366\tvalidation_1-auc:0.443609\tvalidation_1-logloss:0.444621\n",
      "[24]\tvalidation_0-auc:0.890703\tvalidation_0-logloss:0.362014\tvalidation_1-auc:0.443609\tvalidation_1-logloss:0.444585\n",
      "[25]\tvalidation_0-auc:0.892744\tvalidation_0-logloss:0.358489\tvalidation_1-auc:0.469925\tvalidation_1-logloss:0.442873\n",
      "[26]\tvalidation_0-auc:0.896372\tvalidation_0-logloss:0.353417\tvalidation_1-auc:0.503759\tvalidation_1-logloss:0.439199\n",
      "[27]\tvalidation_0-auc:0.903175\tvalidation_0-logloss:0.34964\tvalidation_1-auc:0.484962\tvalidation_1-logloss:0.437123\n",
      "[28]\tvalidation_0-auc:0.904762\tvalidation_0-logloss:0.348269\tvalidation_1-auc:0.492481\tvalidation_1-logloss:0.436774\n",
      "[29]\tvalidation_0-auc:0.904082\tvalidation_0-logloss:0.345989\tvalidation_1-auc:0.466165\tvalidation_1-logloss:0.439054\n",
      "[30]\tvalidation_0-auc:0.900454\tvalidation_0-logloss:0.343734\tvalidation_1-auc:0.447368\tvalidation_1-logloss:0.445999\n",
      "[31]\tvalidation_0-auc:0.899547\tvalidation_0-logloss:0.34219\tvalidation_1-auc:0.432331\tvalidation_1-logloss:0.450662\n",
      "[32]\tvalidation_0-auc:0.900907\tvalidation_0-logloss:0.33979\tvalidation_1-auc:0.477444\tvalidation_1-logloss:0.441906\n",
      "[33]\tvalidation_0-auc:0.896825\tvalidation_0-logloss:0.339157\tvalidation_1-auc:0.477444\tvalidation_1-logloss:0.441688\n",
      "[34]\tvalidation_0-auc:0.897052\tvalidation_0-logloss:0.337518\tvalidation_1-auc:0.488722\tvalidation_1-logloss:0.439892\n",
      "[35]\tvalidation_0-auc:0.893878\tvalidation_0-logloss:0.336661\tvalidation_1-auc:0.484962\tvalidation_1-logloss:0.442215\n",
      "[36]\tvalidation_0-auc:0.894785\tvalidation_0-logloss:0.335146\tvalidation_1-auc:0.496241\tvalidation_1-logloss:0.442025\n",
      "[37]\tvalidation_0-auc:0.904308\tvalidation_0-logloss:0.332572\tvalidation_1-auc:0.484962\tvalidation_1-logloss:0.44737\n",
      "[38]\tvalidation_0-auc:0.905215\tvalidation_0-logloss:0.330831\tvalidation_1-auc:0.488722\tvalidation_1-logloss:0.448798\n",
      "[39]\tvalidation_0-auc:0.904535\tvalidation_0-logloss:0.329471\tvalidation_1-auc:0.5\tvalidation_1-logloss:0.446905\n",
      "[40]\tvalidation_0-auc:0.903175\tvalidation_0-logloss:0.328269\tvalidation_1-auc:0.5\tvalidation_1-logloss:0.446662\n",
      "[41]\tvalidation_0-auc:0.906122\tvalidation_0-logloss:0.324685\tvalidation_1-auc:0.511278\tvalidation_1-logloss:0.448115\n",
      "[42]\tvalidation_0-auc:0.912018\tvalidation_0-logloss:0.322062\tvalidation_1-auc:0.507519\tvalidation_1-logloss:0.445688\n",
      "[43]\tvalidation_0-auc:0.913152\tvalidation_0-logloss:0.320877\tvalidation_1-auc:0.515038\tvalidation_1-logloss:0.442882\n",
      "[44]\tvalidation_0-auc:0.919955\tvalidation_0-logloss:0.320964\tvalidation_1-auc:0.518797\tvalidation_1-logloss:0.436774\n",
      "[45]\tvalidation_0-auc:0.918367\tvalidation_0-logloss:0.319887\tvalidation_1-auc:0.518797\tvalidation_1-logloss:0.439725\n",
      "[46]\tvalidation_0-auc:0.91678\tvalidation_0-logloss:0.317841\tvalidation_1-auc:0.5\tvalidation_1-logloss:0.444258\n",
      "[47]\tvalidation_0-auc:0.914966\tvalidation_0-logloss:0.315698\tvalidation_1-auc:0.507519\tvalidation_1-logloss:0.446141\n",
      "[48]\tvalidation_0-auc:0.919048\tvalidation_0-logloss:0.314111\tvalidation_1-auc:0.477444\tvalidation_1-logloss:0.450001\n",
      "[49]\tvalidation_0-auc:0.920408\tvalidation_0-logloss:0.313256\tvalidation_1-auc:0.488722\tvalidation_1-logloss:0.446733\n",
      "[50]\tvalidation_0-auc:0.922902\tvalidation_0-logloss:0.310758\tvalidation_1-auc:0.515038\tvalidation_1-logloss:0.443399\n",
      "[51]\tvalidation_0-auc:0.923129\tvalidation_0-logloss:0.309514\tvalidation_1-auc:0.5\tvalidation_1-logloss:0.445399\n",
      "[52]\tvalidation_0-auc:0.922902\tvalidation_0-logloss:0.308672\tvalidation_1-auc:0.511278\tvalidation_1-logloss:0.447356\n",
      "[53]\tvalidation_0-auc:0.925397\tvalidation_0-logloss:0.305976\tvalidation_1-auc:0.481203\tvalidation_1-logloss:0.451982\n",
      "[54]\tvalidation_0-auc:0.928571\tvalidation_0-logloss:0.303836\tvalidation_1-auc:0.511278\tvalidation_1-logloss:0.447602\n",
      "[55]\tvalidation_0-auc:0.928118\tvalidation_0-logloss:0.30234\tvalidation_1-auc:0.496241\tvalidation_1-logloss:0.450282\n",
      "[56]\tvalidation_0-auc:0.927891\tvalidation_0-logloss:0.301149\tvalidation_1-auc:0.507519\tvalidation_1-logloss:0.450162\n",
      "[57]\tvalidation_0-auc:0.928345\tvalidation_0-logloss:0.30137\tvalidation_1-auc:0.5\tvalidation_1-logloss:0.450051\n",
      "[58]\tvalidation_0-auc:0.931066\tvalidation_0-logloss:0.300996\tvalidation_1-auc:0.5\tvalidation_1-logloss:0.452064\n",
      "[59]\tvalidation_0-auc:0.931293\tvalidation_0-logloss:0.300518\tvalidation_1-auc:0.507519\tvalidation_1-logloss:0.450137\n",
      "[60]\tvalidation_0-auc:0.930612\tvalidation_0-logloss:0.299006\tvalidation_1-auc:0.496241\tvalidation_1-logloss:0.450894\n",
      "[61]\tvalidation_0-auc:0.929478\tvalidation_0-logloss:0.298107\tvalidation_1-auc:0.481203\tvalidation_1-logloss:0.456293\n",
      "[62]\tvalidation_0-auc:0.928571\tvalidation_0-logloss:0.297638\tvalidation_1-auc:0.488722\tvalidation_1-logloss:0.456485\n",
      "[63]\tvalidation_0-auc:0.931519\tvalidation_0-logloss:0.296254\tvalidation_1-auc:0.5\tvalidation_1-logloss:0.454868\n",
      "[64]\tvalidation_0-auc:0.929252\tvalidation_0-logloss:0.295313\tvalidation_1-auc:0.481203\tvalidation_1-logloss:0.459252\n",
      "[65]\tvalidation_0-auc:0.933107\tvalidation_0-logloss:0.293723\tvalidation_1-auc:0.492481\tvalidation_1-logloss:0.457528\n",
      "[66]\tvalidation_0-auc:0.934694\tvalidation_0-logloss:0.292446\tvalidation_1-auc:0.515038\tvalidation_1-logloss:0.457954\n",
      "[67]\tvalidation_0-auc:0.935147\tvalidation_0-logloss:0.293161\tvalidation_1-auc:0.515038\tvalidation_1-logloss:0.456651\n",
      "[68]\tvalidation_0-auc:0.937188\tvalidation_0-logloss:0.29295\tvalidation_1-auc:0.511278\tvalidation_1-logloss:0.457608\n",
      "[69]\tvalidation_0-auc:0.938776\tvalidation_0-logloss:0.292053\tvalidation_1-auc:0.511278\tvalidation_1-logloss:0.455594\n",
      "[70]\tvalidation_0-auc:0.937415\tvalidation_0-logloss:0.290378\tvalidation_1-auc:0.522556\tvalidation_1-logloss:0.454522\n"
     ]
    },
    {
     "name": "stdout",
     "output_type": "stream",
     "text": [
      "[71]\tvalidation_0-auc:0.938776\tvalidation_0-logloss:0.289875\tvalidation_1-auc:0.526316\tvalidation_1-logloss:0.45388\n",
      "[72]\tvalidation_0-auc:0.939456\tvalidation_0-logloss:0.287527\tvalidation_1-auc:0.522556\tvalidation_1-logloss:0.456989\n",
      "[73]\tvalidation_0-auc:0.943537\tvalidation_0-logloss:0.284532\tvalidation_1-auc:0.518797\tvalidation_1-logloss:0.457898\n",
      "[74]\tvalidation_0-auc:0.943991\tvalidation_0-logloss:0.28374\tvalidation_1-auc:0.533835\tvalidation_1-logloss:0.459445\n",
      "[75]\tvalidation_0-auc:0.945125\tvalidation_0-logloss:0.282052\tvalidation_1-auc:0.503759\tvalidation_1-logloss:0.465229\n",
      "[76]\tvalidation_0-auc:0.946032\tvalidation_0-logloss:0.280574\tvalidation_1-auc:0.492481\tvalidation_1-logloss:0.465921\n",
      "[77]\tvalidation_0-auc:0.946712\tvalidation_0-logloss:0.280611\tvalidation_1-auc:0.492481\tvalidation_1-logloss:0.465481\n",
      "[78]\tvalidation_0-auc:0.945578\tvalidation_0-logloss:0.280546\tvalidation_1-auc:0.5\tvalidation_1-logloss:0.465292\n",
      "[79]\tvalidation_0-auc:0.945578\tvalidation_0-logloss:0.28027\tvalidation_1-auc:0.488722\tvalidation_1-logloss:0.467194\n",
      "[80]\tvalidation_0-auc:0.946939\tvalidation_0-logloss:0.279497\tvalidation_1-auc:0.496241\tvalidation_1-logloss:0.464547\n",
      "[81]\tvalidation_0-auc:0.945125\tvalidation_0-logloss:0.279355\tvalidation_1-auc:0.488722\tvalidation_1-logloss:0.465564\n",
      "[82]\tvalidation_0-auc:0.944898\tvalidation_0-logloss:0.279162\tvalidation_1-auc:0.469925\tvalidation_1-logloss:0.472598\n",
      "[83]\tvalidation_0-auc:0.942857\tvalidation_0-logloss:0.278928\tvalidation_1-auc:0.466165\tvalidation_1-logloss:0.47492\n",
      "[84]\tvalidation_0-auc:0.941723\tvalidation_0-logloss:0.278281\tvalidation_1-auc:0.469925\tvalidation_1-logloss:0.475582\n",
      "[85]\tvalidation_0-auc:0.944671\tvalidation_0-logloss:0.277038\tvalidation_1-auc:0.484962\tvalidation_1-logloss:0.473899\n",
      "[86]\tvalidation_0-auc:0.945578\tvalidation_0-logloss:0.275729\tvalidation_1-auc:0.473684\tvalidation_1-logloss:0.478601\n",
      "[87]\tvalidation_0-auc:0.947392\tvalidation_0-logloss:0.275133\tvalidation_1-auc:0.473684\tvalidation_1-logloss:0.476363\n",
      "[88]\tvalidation_0-auc:0.946712\tvalidation_0-logloss:0.275195\tvalidation_1-auc:0.477444\tvalidation_1-logloss:0.476588\n",
      "[89]\tvalidation_0-auc:0.945125\tvalidation_0-logloss:0.274227\tvalidation_1-auc:0.481203\tvalidation_1-logloss:0.479398\n",
      "[90]\tvalidation_0-auc:0.943084\tvalidation_0-logloss:0.274076\tvalidation_1-auc:0.473684\tvalidation_1-logloss:0.482531\n",
      "[91]\tvalidation_0-auc:0.945578\tvalidation_0-logloss:0.273161\tvalidation_1-auc:0.458647\tvalidation_1-logloss:0.486533\n",
      "[92]\tvalidation_0-auc:0.944444\tvalidation_0-logloss:0.27274\tvalidation_1-auc:0.473684\tvalidation_1-logloss:0.484116\n",
      "[93]\tvalidation_0-auc:0.942857\tvalidation_0-logloss:0.27195\tvalidation_1-auc:0.458647\tvalidation_1-logloss:0.482878\n",
      "[94]\tvalidation_0-auc:0.943084\tvalidation_0-logloss:0.271524\tvalidation_1-auc:0.462406\tvalidation_1-logloss:0.484562\n",
      "[95]\tvalidation_0-auc:0.942404\tvalidation_0-logloss:0.271121\tvalidation_1-auc:0.447368\tvalidation_1-logloss:0.488935\n",
      "[96]\tvalidation_0-auc:0.94263\tvalidation_0-logloss:0.270336\tvalidation_1-auc:0.458647\tvalidation_1-logloss:0.488393\n",
      "[97]\tvalidation_0-auc:0.944444\tvalidation_0-logloss:0.270298\tvalidation_1-auc:0.473684\tvalidation_1-logloss:0.484607\n",
      "[98]\tvalidation_0-auc:0.944218\tvalidation_0-logloss:0.269742\tvalidation_1-auc:0.477444\tvalidation_1-logloss:0.484122\n",
      "[99]\tvalidation_0-auc:0.945351\tvalidation_0-logloss:0.26925\tvalidation_1-auc:0.488722\tvalidation_1-logloss:0.480337\n",
      "[100]\tvalidation_0-auc:0.944898\tvalidation_0-logloss:0.26912\tvalidation_1-auc:0.5\tvalidation_1-logloss:0.479722\n",
      "[101]\tvalidation_0-auc:0.946939\tvalidation_0-logloss:0.268072\tvalidation_1-auc:0.518797\tvalidation_1-logloss:0.477762\n",
      "[102]\tvalidation_0-auc:0.947166\tvalidation_0-logloss:0.268007\tvalidation_1-auc:0.522556\tvalidation_1-logloss:0.478161\n",
      "[103]\tvalidation_0-auc:0.948753\tvalidation_0-logloss:0.266692\tvalidation_1-auc:0.526316\tvalidation_1-logloss:0.477033\n",
      "[104]\tvalidation_0-auc:0.949433\tvalidation_0-logloss:0.266377\tvalidation_1-auc:0.533835\tvalidation_1-logloss:0.474736\n",
      "[105]\tvalidation_0-auc:0.95034\tvalidation_0-logloss:0.264748\tvalidation_1-auc:0.522556\tvalidation_1-logloss:0.476894\n",
      "[106]\tvalidation_0-auc:0.948299\tvalidation_0-logloss:0.264532\tvalidation_1-auc:0.515038\tvalidation_1-logloss:0.47999\n",
      "[107]\tvalidation_0-auc:0.949887\tvalidation_0-logloss:0.262722\tvalidation_1-auc:0.488722\tvalidation_1-logloss:0.486865\n",
      "[108]\tvalidation_0-auc:0.949433\tvalidation_0-logloss:0.262391\tvalidation_1-auc:0.477444\tvalidation_1-logloss:0.489642\n",
      "[109]\tvalidation_0-auc:0.949887\tvalidation_0-logloss:0.261432\tvalidation_1-auc:0.466165\tvalidation_1-logloss:0.494137\n",
      "[110]\tvalidation_0-auc:0.950794\tvalidation_0-logloss:0.261086\tvalidation_1-auc:0.477444\tvalidation_1-logloss:0.492331\n",
      "[111]\tvalidation_0-auc:0.951927\tvalidation_0-logloss:0.26029\tvalidation_1-auc:0.466165\tvalidation_1-logloss:0.496835\n",
      "[112]\tvalidation_0-auc:0.952381\tvalidation_0-logloss:0.259746\tvalidation_1-auc:0.447368\tvalidation_1-logloss:0.504635\n",
      "[113]\tvalidation_0-auc:0.953061\tvalidation_0-logloss:0.259373\tvalidation_1-auc:0.447368\tvalidation_1-logloss:0.507541\n",
      "[114]\tvalidation_0-auc:0.952381\tvalidation_0-logloss:0.258704\tvalidation_1-auc:0.43985\tvalidation_1-logloss:0.51041\n",
      "[115]\tvalidation_0-auc:0.951701\tvalidation_0-logloss:0.258091\tvalidation_1-auc:0.443609\tvalidation_1-logloss:0.510634\n",
      "[116]\tvalidation_0-auc:0.951701\tvalidation_0-logloss:0.257345\tvalidation_1-auc:0.454887\tvalidation_1-logloss:0.509538\n",
      "[117]\tvalidation_0-auc:0.954195\tvalidation_0-logloss:0.256892\tvalidation_1-auc:0.462406\tvalidation_1-logloss:0.510262\n",
      "[118]\tvalidation_0-auc:0.954875\tvalidation_0-logloss:0.256757\tvalidation_1-auc:0.454887\tvalidation_1-logloss:0.508644\n",
      "[119]\tvalidation_0-auc:0.955556\tvalidation_0-logloss:0.256809\tvalidation_1-auc:0.451128\tvalidation_1-logloss:0.511931\n",
      "[120]\tvalidation_0-auc:0.954875\tvalidation_0-logloss:0.256807\tvalidation_1-auc:0.451128\tvalidation_1-logloss:0.510889\n",
      "[121]\tvalidation_0-auc:0.954195\tvalidation_0-logloss:0.25633\tvalidation_1-auc:0.451128\tvalidation_1-logloss:0.511939\n",
      "[122]\tvalidation_0-auc:0.955329\tvalidation_0-logloss:0.256228\tvalidation_1-auc:0.451128\tvalidation_1-logloss:0.5089\n",
      "[123]\tvalidation_0-auc:0.956009\tvalidation_0-logloss:0.256048\tvalidation_1-auc:0.451128\tvalidation_1-logloss:0.506447\n",
      "[124]\tvalidation_0-auc:0.955329\tvalidation_0-logloss:0.255635\tvalidation_1-auc:0.458647\tvalidation_1-logloss:0.505965\n",
      "[125]\tvalidation_0-auc:0.955329\tvalidation_0-logloss:0.25502\tvalidation_1-auc:0.466165\tvalidation_1-logloss:0.506477\n",
      "[126]\tvalidation_0-auc:0.953288\tvalidation_0-logloss:0.254942\tvalidation_1-auc:0.454887\tvalidation_1-logloss:0.514617\n",
      "[127]\tvalidation_0-auc:0.953288\tvalidation_0-logloss:0.254328\tvalidation_1-auc:0.451128\tvalidation_1-logloss:0.51479\n",
      "[128]\tvalidation_0-auc:0.954649\tvalidation_0-logloss:0.253872\tvalidation_1-auc:0.454887\tvalidation_1-logloss:0.509245\n",
      "[129]\tvalidation_0-auc:0.953741\tvalidation_0-logloss:0.252787\tvalidation_1-auc:0.458647\tvalidation_1-logloss:0.510431\n",
      "[130]\tvalidation_0-auc:0.954195\tvalidation_0-logloss:0.252589\tvalidation_1-auc:0.458647\tvalidation_1-logloss:0.510405\n",
      "[131]\tvalidation_0-auc:0.955329\tvalidation_0-logloss:0.251582\tvalidation_1-auc:0.458647\tvalidation_1-logloss:0.509094\n",
      "[132]\tvalidation_0-auc:0.953288\tvalidation_0-logloss:0.25182\tvalidation_1-auc:0.466165\tvalidation_1-logloss:0.508508\n",
      "[133]\tvalidation_0-auc:0.953288\tvalidation_0-logloss:0.250989\tvalidation_1-auc:0.462406\tvalidation_1-logloss:0.505844\n",
      "[134]\tvalidation_0-auc:0.953741\tvalidation_0-logloss:0.250871\tvalidation_1-auc:0.458647\tvalidation_1-logloss:0.504866\n",
      "[135]\tvalidation_0-auc:0.953968\tvalidation_0-logloss:0.25085\tvalidation_1-auc:0.466165\tvalidation_1-logloss:0.503266\n",
      "[136]\tvalidation_0-auc:0.953968\tvalidation_0-logloss:0.249687\tvalidation_1-auc:0.462406\tvalidation_1-logloss:0.503957\n",
      "[137]\tvalidation_0-auc:0.954195\tvalidation_0-logloss:0.249484\tvalidation_1-auc:0.466165\tvalidation_1-logloss:0.504442\n",
      "[138]\tvalidation_0-auc:0.955102\tvalidation_0-logloss:0.248609\tvalidation_1-auc:0.469925\tvalidation_1-logloss:0.502014\n",
      "[139]\tvalidation_0-auc:0.954875\tvalidation_0-logloss:0.24777\tvalidation_1-auc:0.451128\tvalidation_1-logloss:0.504838\n",
      "[140]\tvalidation_0-auc:0.954422\tvalidation_0-logloss:0.247353\tvalidation_1-auc:0.43985\tvalidation_1-logloss:0.508565\n"
     ]
    },
    {
     "name": "stdout",
     "output_type": "stream",
     "text": [
      "[141]\tvalidation_0-auc:0.954195\tvalidation_0-logloss:0.247251\tvalidation_1-auc:0.432331\tvalidation_1-logloss:0.513748\n",
      "[142]\tvalidation_0-auc:0.955556\tvalidation_0-logloss:0.247115\tvalidation_1-auc:0.43609\tvalidation_1-logloss:0.510936\n",
      "[143]\tvalidation_0-auc:0.956463\tvalidation_0-logloss:0.246472\tvalidation_1-auc:0.424812\tvalidation_1-logloss:0.513834\n",
      "[144]\tvalidation_0-auc:0.955782\tvalidation_0-logloss:0.245605\tvalidation_1-auc:0.413534\tvalidation_1-logloss:0.518893\n",
      "[145]\tvalidation_0-auc:0.956689\tvalidation_0-logloss:0.244952\tvalidation_1-auc:0.421053\tvalidation_1-logloss:0.519898\n",
      "[146]\tvalidation_0-auc:0.955556\tvalidation_0-logloss:0.243821\tvalidation_1-auc:0.421053\tvalidation_1-logloss:0.516633\n",
      "[147]\tvalidation_0-auc:0.955782\tvalidation_0-logloss:0.243714\tvalidation_1-auc:0.424812\tvalidation_1-logloss:0.514513\n",
      "[148]\tvalidation_0-auc:0.956009\tvalidation_0-logloss:0.243184\tvalidation_1-auc:0.421053\tvalidation_1-logloss:0.515745\n",
      "[149]\tvalidation_0-auc:0.956009\tvalidation_0-logloss:0.242457\tvalidation_1-auc:0.413534\tvalidation_1-logloss:0.524149\n"
     ]
    }
   ],
   "source": [
    "# turn categorical to numeric!\n",
    "# features=pd.read_csv('features.csv')\n",
    "\n",
    "features=pd.get_dummies(features,prefix=['Type'],columns=['PlayType'])\n",
    "features=pd.get_dummies(features,prefix=['Stadium'],columns=['Stadium'])\n",
    "features=pd.get_dummies(features,prefix=['FieldType'],columns=['FieldType'])\n",
    "features=pd.get_dummies(features,prefix=['Weather'],columns=['Weather_category'])\n",
    "\n",
    "features['Status'] = features['Status'].apply(lambda x: 1 if x=='Injured' else 0) # turn target information from categorical to numeric\n",
    "features=features.astype('float')\n",
    "\n",
    "from sklearn.preprocessing import StandardScaler\n",
    "from sklearn.model_selection import train_test_split\n",
    "from sklearn.model_selection import GridSearchCV\n",
    "from sklearn import metrics\n",
    "from xgboost import XGBClassifier, DMatrix\n",
    "\n",
    "X, y = features[features.columns.drop('Status')], features['Status']\n",
    "# xgboost does not need values to be normalized or put within a range value. \n",
    "# scaler = StandardScaler()\n",
    "# import warnings\n",
    "# warnings.filterwarnings('ignore')\n",
    "# X[X.columns[:].tolist()] = scaler.fit_transform(X[X.columns[:].tolist()]) # keep X as a dataframe\n",
    "\n",
    "X_train, X_test, y_train, y_test = train_test_split(X,y,test_size=.2,random_state=21)\n",
    "\n",
    "clf = XGBClassifier(learning_rate=0.1, n_estimators=150, max_depth=3,\n",
    "                    min_child_weight=3, gamma=0.2, subsample=0.5, colsample_bytree=1.0,\n",
    "                    objective='binary:logistic', scale_pos_weight=1, seed=27)\n",
    "\n",
    "\n",
    "eval_set=[(X_train, y_train), (X_test, y_test)]\n",
    "\n",
    "clf.fit(X_train, y_train, eval_metric=['auc','logloss'], eval_set=eval_set, verbose=1)\n",
    "\n",
    "\n",
    "\n",
    "\n",
    "y_pred = clf.predict(X_test)\n",
    "y_pred_proba = clf.predict_proba(X_test)[:, 1]\n"
   ]
  },
  {
   "cell_type": "code",
   "execution_count": 9,
   "metadata": {
    "ExecuteTime": {
     "end_time": "2020-02-13T15:46:48.044076Z",
     "start_time": "2020-02-13T15:46:48.020141Z"
    }
   },
   "outputs": [
    {
     "name": "stdout",
     "output_type": "stream",
     "text": [
      "Accuracy is: 0.8222222222222222\n",
      "Precision score is: 0.3333333333333333\n",
      "Recall score is: 0.14285714285714285\n",
      "F1 score is: 0.2\n",
      "AUC Score is: 0.41353383458646614\n"
     ]
    }
   ],
   "source": [
    "\n",
    "print(\"Accuracy is: {}\".format(metrics.accuracy_score(y_test, y_pred)))\n",
    "print(\"Precision score is: {}\".format(metrics.precision_score(y_test, y_pred)))\n",
    "print(\"Recall score is: {}\".format(metrics.recall_score(y_test, y_pred)))\n",
    "print(\"F1 score is: {}\".format(metrics.f1_score(y_test, y_pred)))\n",
    "print(\"AUC Score is: {}\".format(metrics.roc_auc_score(y_test, y_pred_proba)))"
   ]
  },
  {
   "cell_type": "markdown",
   "metadata": {},
   "source": [
    "The accuracy of the model is 82%.  That is not terrible, but what is concerning is the low precision, recall, and  collective F1 score.  As we can see, there is clear overfitting from the output summary. Training Area under the curve reaches approx .96 where testing says at chance.  A confusion matrix visually explains this."
   ]
  },
  {
   "cell_type": "code",
   "execution_count": 17,
   "metadata": {
    "ExecuteTime": {
     "end_time": "2020-02-13T16:13:47.332270Z",
     "start_time": "2020-02-13T16:13:47.179531Z"
    }
   },
   "outputs": [
    {
     "data": {
      "text/plain": [
       "Text(91.68, 0.5, 'predicted label')"
      ]
     },
     "execution_count": 17,
     "metadata": {},
     "output_type": "execute_result"
    },
    {
     "data": {
      "image/png": "[encoded data removed]",
      "text/plain": [
       "<Figure size 432x288 with 1 Axes>"
      ]
     },
     "metadata": {
      "needs_background": "light"
     },
     "output_type": "display_data"
    }
   ],
   "source": [
    "from sklearn.metrics import confusion_matrix\n",
    "mat = confusion_matrix(y_test, y_pred)\n",
    "sns.heatmap(mat.T, square=True, annot=True, annot_kws={\"fontsize\":18}, fmt='d', cbar=False,\n",
    "            xticklabels=['Healthy','Injured'],\n",
    "            yticklabels=['Healthy','Injured'])\n",
    "plt.xlabel('true label', Fontsize=16)\n",
    "plt.ylabel('predicted label', Fontsize=16)"
   ]
  },
  {
   "cell_type": "markdown",
   "metadata": {},
   "source": [
    "As we see above, predicted and true label healthy plays are good, but most of the injured plays are predicted as healthy plays.  Re-evaluation of this model can perhaps increase the predictive power.  Correlation analysis of the data, different feature engineering, or assigning weights to the categorical data may help in reducing overfitting.  Only after a solid model is put together will fine tuning be implemented."
   ]
  },
  {
   "cell_type": "code",
   "execution_count": null,
   "metadata": {},
   "outputs": [],
   "source": []
  },
  {
   "cell_type": "code",
   "execution_count": null,
   "metadata": {},
   "outputs": [],
   "source": []
  }
 ],
 "metadata": {
  "kernelspec": {
   "display_name": "Python 3",
   "language": "python",
   "name": "python3"
  },
  "language_info": {
   "codemirror_mode": {
    "name": "ipython",
    "version": 3
   },
   "file_extension": ".py",
   "mimetype": "text/x-python",
   "name": "python",
   "nbconvert_exporter": "python",
   "pygments_lexer": "ipython3",
   "version": "3.7.3"
  }
 },
 "nbformat": 4,
 "nbformat_minor": 2
}
